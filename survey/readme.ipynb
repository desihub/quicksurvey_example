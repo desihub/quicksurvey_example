{
 "cells": [
  {
   "cell_type": "code",
   "execution_count": 5,
   "metadata": {
    "collapsed": false
   },
   "outputs": [],
   "source": [
    "import os\n",
    "import yaml\n",
    "from astropy.table import Table\n",
    "import matplotlib.pyplot as plt\n",
    "import healpy as hp\n",
    "import numpy as np\n",
    "import fitsio\n",
    "import datetime\n",
    "%matplotlib inline"
   ]
  },
  {
   "cell_type": "code",
   "execution_count": 6,
   "metadata": {
    "collapsed": true
   },
   "outputs": [],
   "source": [
    "import desisim\n",
    "import desisurvey\n",
    "import desimodel.io\n",
    "import desimodel.footprint"
   ]
  },
  {
   "cell_type": "markdown",
   "metadata": {},
   "source": [
    "# Environment Variables \n",
    "\n",
    "Set some environment variables and create output directories\n",
    "\n",
    "`$DESISURVEY` = `${SCRATCH}`/quicksurvey_example/survey/"
   ]
  },
  {
   "cell_type": "code",
   "execution_count": 7,
   "metadata": {
    "collapsed": true
   },
   "outputs": [],
   "source": [
    "alldirs = {}\n",
    "basedir = os.path.join(os.getenv('SCRATCH'),'quicksurvey_example')\n",
    "surveydir = os.environ['DESISURVEY_OUTPUT'] = os.path.join(basedir,'survey')\n",
    "fiberassigndir =  os.path.join(basedir, 'fiberassign')\n",
    "alldirs['surveydir'] = surveydir\n",
    "alldirs['fiberassigndir'] = fiberassigndir\n",
    "\n",
    "brighttargetdir = os.path.join(basedir,'targets/no_spectra/bright')\n",
    "darktargetdir = os.path.join(basedir,'targets/no_spectra/dark')\n",
    "alldirs['brighttargetdir'] = brighttargetdir\n",
    "alldirs['darktargetdir'] = darktargetdir\n",
    "\n",
    "zcatbrightdir = os.path.join(basedir,'zcat/bright')\n",
    "zcatdarkdir = os.path.join(basedir,'zcat/dark')\n",
    "alldirs['zcatbrightdir'] = zcatbrightdir\n",
    "alldirs['zcatdarkdir'] = zcatdarkdir\n",
    "\n",
    "alltargetdir = os.path.join(basedir,'targets/no_spectra/bright')\n",
    "zcatalldir = os.path.join(basedir,'zcat/all')\n",
    "alldirs['alltargetdir'] = alltargetdir\n",
    "alldirs['zcatalldir'] = zcatalldir"
   ]
  },
  {
   "cell_type": "code",
   "execution_count": 8,
   "metadata": {
    "collapsed": false
   },
   "outputs": [
    {
     "name": "stdout",
     "output_type": "stream",
     "text": [
      "Creating darktargetdir: /global/cscratch1/sd/forero/quicksurvey_example/targets/no_spectra/dark\n",
      "Creating brighttargetdir: /global/cscratch1/sd/forero/quicksurvey_example/targets/no_spectra/bright\n",
      "Creating zcatalldir: /global/cscratch1/sd/forero/quicksurvey_example/zcat/all\n",
      "Creating alltargetdir: /global/cscratch1/sd/forero/quicksurvey_example/targets/no_spectra/bright\n",
      "Creating fiberassigndir: /global/cscratch1/sd/forero/quicksurvey_example/fiberassign\n",
      "Creating zcatdarkdir: /global/cscratch1/sd/forero/quicksurvey_example/zcat/dark\n",
      "Creating zcatbrightdir: /global/cscratch1/sd/forero/quicksurvey_example/zcat/bright\n",
      "Creating surveydir: /global/cscratch1/sd/forero/quicksurvey_example/survey\n"
     ]
    }
   ],
   "source": [
    "for k in alldirs.keys():\n",
    "    print('Creating {}: {}'.format(k, alldirs[k]))\n",
    "    os.makedirs(alldirs[k], exist_ok=True)"
   ]
  },
  {
   "cell_type": "markdown",
   "metadata": {},
   "source": [
    "# Survey Plan"
   ]
  },
  {
   "cell_type": "markdown",
   "metadata": {},
   "source": [
    "We create a list of tiles to be observed by running `surveyplan` and `surveysim` for the **first year** of the survey.\n",
    "The configuration file we used is"
   ]
  },
  {
   "cell_type": "code",
   "execution_count": 24,
   "metadata": {
    "collapsed": false
   },
   "outputs": [
    {
     "name": "stdout",
     "output_type": "stream",
     "text": [
      "####################################################################\r\n",
      "# Configuration data for DESI survey planning and scheduling.\r\n",
      "####################################################################\r\n",
      "\r\n",
      "#-------------------------------------------------------------------\r\n",
      "# Location of the Mayall at KPNO\r\n",
      "#-------------------------------------------------------------------\r\n",
      "\r\n",
      "location:\r\n",
      "    latitude: 31.963972222 deg\r\n",
      "    longitude: -111.599336111 deg\r\n",
      "    elevation: 2120 m\r\n",
      "    pressure: 78318 Pa    # from 1976 standard atmosphere model\r\n",
      "    temperature: 5 C      # a guess at mean night-time temperature\r\n",
      "    timezone: US/Arizona\r\n",
      "\r\n",
      "#-------------------------------------------------------------------\r\n",
      "# Observing calendar.\r\n",
      "#-------------------------------------------------------------------\r\n",
      "\r\n",
      "# Survey nominally starts on night of this date. Format is YYYY-MM-DD.\r\n",
      "first_day: 2019-12-01\r\n",
      "\r\n",
      "# Survey nominally ends on morning of this date. Format is YYYY-MM-DD.\r\n",
      "last_day: 2020-11-30\r\n",
      "\r\n",
      "# First night of monsoon shutdown is on this date each year.\r\n",
      "# Format is YYYY-MM-DD but the year is ignored.\r\n",
      "monsoon_start: 2019-07-13\r\n",
      "\r\n",
      "# Observing resumes on night of this date each year after monsoon shutdown.\r\n",
      "# Format is YYYY-MM-DD but the year is ignored.\r\n",
      "monsoon_stop: 2019-08-27\r\n",
      "\r\n",
      "# Number of nights reserved for engineering / guest observing\r\n",
      "# during each full moon.\r\n",
      "full_moon_nights: 7\r\n",
      "\r\n",
      "#-------------------------------------------------------------------\r\n",
      "# Weather forecast.\r\n",
      "#-------------------------------------------------------------------\r\n",
      "\r\n",
      "# Percentage probability that the dome is closed during dark time\r\n",
      "# due to weather. TODO: find doc-db reference for these (#1658,730,735,993?)\r\n",
      "dome_closed_probability:\r\n",
      "    jan: 35.24\r\n",
      "    feb: 44.14\r\n",
      "    mar: 27.68\r\n",
      "    apr: 26.73\r\n",
      "    may: 14.22\r\n",
      "    jun: 15.78\r\n",
      "    jul: 55.92\r\n",
      "    aug: 48.75\r\n",
      "    sep: 29.45\r\n",
      "    oct: 24.44\r\n",
      "    nov: 24.86\r\n",
      "    dec: 34.74\r\n",
      "\r\n",
      "#-------------------------------------------------------------------\r\n",
      "# Definition of the DARK / GRAY / BRIGHT nominal programs based on\r\n",
      "# sun and moon ephemerides.\r\n",
      "#-------------------------------------------------------------------\r\n",
      "\r\n",
      "programs:\r\n",
      "    DARK:\r\n",
      "        # Twilight requirement.\r\n",
      "        max_sun_altitude: -15 deg\r\n",
      "        # Moon must be below the horizon.\r\n",
      "    GRAY:\r\n",
      "        # Twilight requirement is the same as DARK.\r\n",
      "        # Moon must be above the horizon and pass both of these cuts:\r\n",
      "        max_moon_illumination: 0.6\r\n",
      "        max_moon_illumination_altitude_product: 30 deg\r\n",
      "    BRIGHT:\r\n",
      "        # Twilight requirement.\r\n",
      "        max_sun_altitude: -13 deg\r\n",
      "        # Any time after twilight that is neither DARK nor GRAY is BRIGHT.\r\n",
      "\r\n",
      "#-------------------------------------------------------------------\r\n",
      "# Parameters used to plan observation during a night.\r\n",
      "#-------------------------------------------------------------------\r\n",
      "\r\n",
      "# Never observe below this limit.\r\n",
      "min_altitude: 30 deg\r\n",
      "\r\n",
      "# Exposure overhead parameters\r\n",
      "focus_time: 30 s\r\n",
      "slew_overhead: 11.5 s\r\n",
      "slew_rate: 0.45 deg / s\r\n",
      "readout_time: 2 min\r\n",
      "\r\n",
      "# Exposure time policy parameters\r\n",
      "cosmic_ray_split: 20 min\r\n",
      "max_exposure_length: 60 min\r\n",
      "\r\n",
      "# The target SNR**2 for each program is specified as the total exposure time\r\n",
      "# required at nominal observing conditions.\r\n",
      "nominal_exposure_time:\r\n",
      "    DARK: 1000 s\r\n",
      "    GRAY: 1000 s\r\n",
      "    BRIGHT: 300 s\r\n",
      "nominal_conditions:\r\n",
      "    # Moon below the horizon\r\n",
      "    seeing: 1.1 arcsec\r\n",
      "    airmass: 1.0\r\n",
      "    transparency: 1.0\r\n",
      "    EBV: 0.0\r\n",
      "\r\n",
      "# Reobserve tiles that have not reached this fraction of their target SNR**2.\r\n",
      "min_snr2_fraction: 0.8\r\n",
      "\r\n",
      "# List of bodies to avoid when scheduling tiles.\r\n",
      "avoid_bodies:\r\n",
      "    moon: 50 deg\r\n",
      "    venus: 2 deg\r\n",
      "    mars: 2 deg\r\n",
      "    jupiter: 2 deg\r\n",
      "    saturn: 2 deg\r\n",
      "    neptune: 2 deg\r\n",
      "    uranus: 2 deg\r\n",
      "    #ceres: 2 deg  # not implemented in pyephem: do we need it?\r\n",
      "\r\n",
      "# Weights for scheduling a tile out of the nominal program, relative\r\n",
      "# to 1 for observing a tile from the nominal program.\r\n",
      "fallback_weights:\r\n",
      "    # DARK program fallback weights.\r\n",
      "    gray_in_dark: 0.4\r\n",
      "    bright_in_dark: 0.3\r\n",
      "    # GRAY program fallback weights.\r\n",
      "    dark_in_gray: 0.0\r\n",
      "    bright_in_gray: 0.5\r\n",
      "    # BRIGHT program fallback weights.\r\n",
      "    dark_in_bright: 0.0\r\n",
      "    gray_in_bright: 0.0\r\n",
      "\r\n",
      "# Nominal tile radius for determining whether two tiles overlap.\r\n",
      "# https://github.com/desihub/desimodel/pull/37#issuecomment-270788581\r\n",
      "tile_radius: 1.62 deg\r\n",
      "\r\n",
      "fiber_assignment_order:\r\n",
      "    P1: P0\r\n",
      "    P2: P0+P1\r\n",
      "    P3: P0+P1\r\n",
      "    P6: P5\r\n",
      "    P7: P5+P6\r\n",
      "\r\n",
      "# Name of file defining DESI tiles for desimodel.io.load_tiles(tiles_file).\r\n",
      "# Without path this will look in $DESIMODEL/data/footprint/; otherwise with\r\n",
      "# a path (relative or absolute) it will read that file.\r\n",
      "tiles_file: desi-tiles.fits\r\n",
      "\r\n",
      "#-------------------------------------------------------------------\r\n",
      "# Base path to pre-pended to all non-absolute paths used for writing\r\n",
      "# output files. The pattern {...} will be expanded using environment\r\n",
      "# variables.\r\n",
      "#-------------------------------------------------------------------\r\n",
      "\r\n",
      "output_path: '{DESISURVEY_OUTPUT}'\r\n"
     ]
    }
   ],
   "source": [
    "cmd  = 'cat  {}/config.yaml'.format(os.environ['DESISURVEY_OUTPUT'])\n",
    "! $cmd"
   ]
  },
  {
   "cell_type": "markdown",
   "metadata": {},
   "source": [
    "And the detailed script is"
   ]
  },
  {
   "cell_type": "code",
   "execution_count": 25,
   "metadata": {
    "collapsed": false
   },
   "outputs": [
    {
     "name": "stdout",
     "output_type": "stream",
     "text": [
      "#!/bin/bash\r\n",
      "#############################################################################\r\n",
      "# Simulate the baseline survey strategy described in DESI-doc-1767-v3.\r\n",
      "# Note that this is one random realization of the observing conditions.\r\n",
      "# Change the random seed for a different realization.\r\n",
      "# This will take ~1 hours to run and writes ~50MB to $DESISURVEY_OUTPUT.\r\n",
      "#############################################################################\r\n",
      "export DESISURVEY_OUTPUT=${SCRATCH}'/quicksurvey_example/survey'\r\n",
      "\r\n",
      "INIT_ARGS='--verbose --config-file '${DESISURVEY_OUTPUT}/'config.yaml'\r\n",
      "PLAN_ARGS='--verbose --fa-delay 1m --config-file '${DESISURVEY_OUTPUT}/'config.yaml'\r\n",
      "SIM_ARGS='--verbose --seed 123 --strategy HA+fallback --config-file '${DESISURVEY_OUTPUT}/'config.yaml'\r\n",
      "\r\n",
      "surveyinit ${INIT_ARGS}\r\n",
      "surveyplan --create ${PLAN_ARGS}\r\n",
      "surveysim ${SIM_ARGS}\r\n",
      "\r\n",
      "while :\r\n",
      "do\r\n",
      "    (surveyplan ${PLAN_ARGS}) || break\r\n",
      "    (surveysim --resume ${SIM_ARGS}) || break\r\n",
      "done\r\n"
     ]
    }
   ],
   "source": [
    "cmd  = 'cat  {}/surveysim_baseline.sh'.format(os.environ['DESISURVEY_OUTPUT'])\n",
    "! $cmd"
   ]
  },
  {
   "cell_type": "markdown",
   "metadata": {},
   "source": [
    "This takes almost four hours to run. \n",
    "If you don't want to run it, you can skip to **Run Select Mock Targets**"
   ]
  },
  {
   "cell_type": "code",
   "execution_count": 26,
   "metadata": {
    "collapsed": false
   },
   "outputs": [
    {
     "name": "stdout",
     "output_type": "stream",
     "text": [
      "/global/cscratch1/sd/forero/quicksurvey_example/survey/surveysim_baseline.sh\n"
     ]
    }
   ],
   "source": [
    "cmd  = '{}/surveysim_baseline.sh'.format(os.environ['DESISURVEY_OUTPUT'])\n",
    "print(cmd)\n",
    "# !$cmd"
   ]
  },
  {
   "cell_type": "markdown",
   "metadata": {},
   "source": [
    "# Compute exposures files from `progress` data\n",
    "\n",
    "`progress.fits` is the file that summarizes the survey simulation.\n",
    "We read that file and write to disk a file with all the `exposures`\n",
    "made during the survey and two more files with the exposures for dark and bright\n",
    "surveys. **NOTE**: We include grey exposures into `all_exposures_dark` file.\n",
    "Bright twilight tiles should be excluded because we don't have a right sky model, but we are including them here anyway."
   ]
  },
  {
   "cell_type": "code",
   "execution_count": 27,
   "metadata": {
    "collapsed": false
   },
   "outputs": [
    {
     "name": "stdout",
     "output_type": "stream",
     "text": [
      "INFO:progress.py:145:__init__: Loaded progress from /global/cscratch1/sd/forero/quicksurvey_example/survey/progress.fits.\n"
     ]
    },
    {
     "data": {
      "image/png": "[encoded data removed]",
      "text/plain": [
       "<matplotlib.figure.Figure at 0x2b4857d75908>"
      ]
     },
     "metadata": {},
     "output_type": "display_data"
    }
   ],
   "source": [
    "from desisurvey.progress import Progress\n",
    "\n",
    "if os.path.isfile(os.path.join(alldirs['surveydir'], 'progress.fits')):\n",
    "    Progress(restore='progress.fits').get_exposures().write(os.path.join(alldirs['surveydir'],'exposures.fits'), overwrite=True)\n",
    "    \n",
    "    explist = Table.read(os.path.join(alldirs['surveydir'],'exposures.fits'))\n",
    "\n",
    "    # separate the exposures for dark and bright programs\n",
    "    isbright = explist['pass'] > 4 \n",
    "    isgray = explist['pass'] == 4\n",
    "    isdark = explist['pass'] < 4\n",
    "    \n",
    "    exposurefile_bright = os.path.join(alldirs['surveydir'],'all_exposures_bright.fits')\n",
    "    Table(explist[isbright]).write(exposurefile_bright, overwrite=True)\n",
    "\n",
    "    exposurefile_dark = os.path.join(alldirs['surveydir'],'all_exposures_dark.fits')\n",
    "    Table(explist[~isbright]).write(exposurefile_dark, overwrite=True)\n",
    "    \n",
    "    # Make a simple plot\n",
    "    plt.plot(explist['ra'][isdark], explist['dec'][isdark], 'kx', alpha=0.8, label='dark')\n",
    "    plt.plot(explist['ra'][isgray], explist['dec'][isgray], 'k.', alpha=0.2, label='gray')\n",
    "    plt.plot(explist['ra'][isbright], explist['dec'][isbright], 'mx', alpha=0.8, label='bright')\n",
    "    plt.legend(loc='upper right')"
   ]
  },
  {
   "cell_type": "markdown",
   "metadata": {
    "collapsed": false
   },
   "source": [
    "# Select a subset of tiles\n",
    "\n",
    "We pick 20 tiles nearest RA=180, dec=18. That are already included in the survey simulation outputs.\n",
    "`fiberassign` will run on those tiles."
   ]
  },
  {
   "cell_type": "code",
   "execution_count": 29,
   "metadata": {
    "collapsed": true
   },
   "outputs": [],
   "source": [
    "tiles = desimodel.io.load_tiles()\n",
    "explist = Table.read(os.path.join(alldirs['surveydir'],'exposures.fits'))"
   ]
  },
  {
   "cell_type": "code",
   "execution_count": 32,
   "metadata": {
    "collapsed": false
   },
   "outputs": [
    {
     "name": "stdout",
     "output_type": "stream",
     "text": [
      "20 tiles covered by 33 exposures\n"
     ]
    }
   ],
   "source": [
    "ntiles = 20\n",
    "\n",
    "xtiles = tiles[np.in1d(tiles['TILEID'], explist['tileid'])]\n",
    "xyz = hp.ang2vec(xtiles['ra'], xtiles['dec'], lonlat=True)\n",
    "center = hp.ang2vec(180, 18, lonlat=True)\n",
    "d2 = ((xyz - center)**2).sum(axis=1)\n",
    "ii = np.argsort(d2)[0:ntiles]\n",
    "xtiles = xtiles[ii]\n",
    "\n",
    "#nside = 64\n",
    "#pixels = desimodel.footprint.tiles2pix(nside, xtiles)\n",
    "nexp = np.count_nonzero(np.in1d(explist['tileid'], xtiles['TILEID']))\n",
    "print('{} tiles covered by {} exposures'.format(len(xtiles), nexp))"
   ]
  },
  {
   "cell_type": "code",
   "execution_count": null,
   "metadata": {
    "collapsed": false
   },
   "outputs": [],
   "source": [
    "#- row indices of exposures of the selected tiles\n",
    "iobs = np.where(np.in1d(explist['tileid'], xtiles['TILEID']))[0]\n",
    "assert np.all(np.in1d(explist['tileid'][iobs], xtiles['TILEID']))\n",
    "print(iobs)\n",
    "print(pixels, len(pixels))\n",
    "\n",
    "# The exposure list could have a repeated tileid. That would mean that \n",
    "# the tile had to be targetted more than once.\n",
    "explist[iobs]"
   ]
  },
  {
   "cell_type": "code",
   "execution_count": null,
   "metadata": {
    "collapsed": false
   },
   "outputs": [],
   "source": [
    "# save the reduce list of exposures for bright and dark/gray survey\n",
    "mini_explist = explist[iobs]\n",
    "isbright = mini_explist['pass'] > 4\n",
    "\n",
    "exposurefile = os.path.join(surveydir,'exposures_bright.fits')\n",
    "Table(mini_explist[isbright]).write(exposurefile, overwrite=True)\n",
    "\n",
    "\n",
    "exposurefile = os.path.join(surveydir,'exposures_dark.fits')\n",
    "Table(mini_explist[~isbright]).write(exposurefile, overwrite=True)\n",
    "\n",
    "\n",
    "exposurefile = os.path.join(surveydir,'exposures_all.fits')\n",
    "Table(mini_explist).write(exposurefile, overwrite=True)"
   ]
  },
  {
   "cell_type": "code",
   "execution_count": null,
   "metadata": {
    "collapsed": false
   },
   "outputs": [],
   "source": [
    "Table(mini_explist[isbright])"
   ]
  },
  {
   "cell_type": "code",
   "execution_count": null,
   "metadata": {
    "collapsed": false
   },
   "outputs": [],
   "source": [
    "Table(mini_explist[~isbright])"
   ]
  },
  {
   "cell_type": "markdown",
   "metadata": {},
   "source": [
    "Plot the tiles and pixels"
   ]
  },
  {
   "cell_type": "code",
   "execution_count": null,
   "metadata": {
    "collapsed": false
   },
   "outputs": [],
   "source": [
    "def plot_tile(ra, dec, r=1.606, color='k'):\n",
    "    '''Approximate plot of tile location'''\n",
    "    ang = np.linspace(0, 2*np.pi, 100)\n",
    "    x = ra + r*np.cos(ang)/np.cos(np.radians(dec))\n",
    "    y = dec + r*np.sin(ang)\n",
    "    plt.plot(x,y, '-', color=color)\n",
    "\n",
    "def plot_healpix(nside, pixels):\n",
    "    '''Plot healpix boundaries; doesn't work at RA wraparound'''\n",
    "    for p in pixels:\n",
    "        xyz = hp.boundaries(nside, p, nest=True)\n",
    "        theta, phi = hp.vec2ang(xyz.T)\n",
    "        theta = np.concatenate([theta, theta[0:1]])\n",
    "        phi = np.concatenate([phi, phi[0:1]])\n",
    "        ra, dec = np.degrees(phi), 90-np.degrees(theta)\n",
    "        plt.plot(ra, dec, '-', color='0.6')\n",
    "\n",
    "plt.figure(figsize=(12,3))\n",
    "plt.subplot(121)\n",
    "plt.plot(tiles['RA'], tiles['DEC'], 'k,', alpha=0.5)\n",
    "plt.plot(explist['ra'], explist['dec'], 'b.', alpha=0.5)\n",
    "plt.plot(xtiles['RA'], xtiles['DEC'], 'rx')\n",
    "plt.xlim(0,360); plt.ylim(-20, 80)\n",
    "\n",
    "plt.subplot(122)\n",
    "plot_healpix(nside, pixels)\n",
    "color = dict(DARK='black', GRAY='blue', BRIGHT='magenta')\n",
    "for program in ['DARK', 'GRAY', 'BRIGHT']:\n",
    "    ii = tiles['PROGRAM'] == program\n",
    "    plt.plot(tiles['RA'][ii], tiles['DEC'][ii], '.', color=color[program], alpha=0.5)\n",
    "    jj = xtiles['PROGRAM'] == program\n",
    "    for t in xtiles[jj]:\n",
    "        plot_tile(t['RA'], t['DEC'], color=color[program])\n",
    "\n",
    "plt.xlim(170, 190); plt.ylim(13, 23)"
   ]
  },
  {
   "cell_type": "code",
   "execution_count": null,
   "metadata": {
    "collapsed": false
   },
   "outputs": [],
   "source": [
    "#- Write subset of tiles table to file for input to select_mock_targets --no-spectra\n",
    "tilefile = os.path.join(darktargetdir,'test-tiles.fits')\n",
    "Table(xtiles).write(tilefile, overwrite=True)\n",
    "tilefile = os.path.join(brighttargetdir,'test-tiles.fits')\n",
    "Table(xtiles).write(tilefile, overwrite=True)\n",
    "Table(xtiles)"
   ]
  },
  {
   "cell_type": "markdown",
   "metadata": {},
   "source": [
    "# Run serial select_mock_targets --no-spectra"
   ]
  },
  {
   "cell_type": "code",
   "execution_count": null,
   "metadata": {
    "collapsed": false
   },
   "outputs": [],
   "source": [
    "select_mock_targets_cmd  = \"select_mock_targets --no-spectra -c {yamlconfigfile} --nside {healpixnside} --output_dir {outputdir} --seed {seed} --tiles {tilefile}\"\n",
    "\n",
    "cmd = select_mock_targets_cmd.format(yamlconfigfile=os.path.join(darktargetdir,'select-mock-targets-dark.yaml'),\n",
    "                                    healpixnside=16,\n",
    "                                    outputdir=darktargetdir,\n",
    "                                    seed=10,\n",
    "                                    tilefile=os.path.join(darktargetdir,'test-tiles.fits'))\n",
    "print(cmd)\n",
    "#!  -c quicksurvey_example/targets/select-mock-targets.yaml --nside 16 --no-spectra --output_dir ./tmpoutsmall --seed 42 --tiles quicksurvey_example/targets/test-tiles.fits "
   ]
  },
  {
   "cell_type": "code",
   "execution_count": null,
   "metadata": {
    "collapsed": false
   },
   "outputs": [],
   "source": [
    "!$cmd"
   ]
  },
  {
   "cell_type": "code",
   "execution_count": null,
   "metadata": {
    "collapsed": false
   },
   "outputs": [],
   "source": [
    "cmd = \"join_mock_targets --force --mockdir \"+darktargetdir\n",
    "! $cmd"
   ]
  },
  {
   "cell_type": "code",
   "execution_count": null,
   "metadata": {
    "collapsed": true
   },
   "outputs": [],
   "source": [
    "# some sanity checks on the results"
   ]
  },
  {
   "cell_type": "code",
   "execution_count": null,
   "metadata": {
    "collapsed": false
   },
   "outputs": [],
   "source": [
    "targets = fitsio.read(darktargetdir+'/targets.fits')\n",
    "truth   = fitsio.read(darktargetdir+'/truth.fits')\n",
    "mtl     = fitsio.read(darktargetdir+'/mtl.fits')\n",
    "std     = fitsio.read(darktargetdir+'/standards-dark.fits')\n",
    "sky     = fitsio.read(darktargetdir+'/sky.fits')"
   ]
  },
  {
   "cell_type": "code",
   "execution_count": null,
   "metadata": {
    "collapsed": true
   },
   "outputs": [],
   "source": [
    "assert len(truth) == len(targets)                             #- same number of targets and truth\n",
    "assert np.all(targets['TARGETID'] == truth['TARGETID'])       #- targets and truth are row matched\n",
    "assert len(targets) == len(np.unique(targets['TARGETID']))    #- no repeated TARGETIDs\n",
    "assert len(sky) == len(np.unique(sky['TARGETID']))            #- no repeated sky TARGETIDs\n",
    "assert len(std) == len(np.unique(std['TARGETID']))            #- no repeated std TARGETIDs\n",
    "\n",
    "assert np.all(np.in1d(targets['TARGETID'], mtl['TARGETID']))  #- all targets are in MTL\n",
    "\n",
    "#- no sky targets should be in science targets, though it is possible for standards to also be MWS targets\n",
    "assert not np.any(np.in1d(sky['TARGETID'], targets['TARGETID']))"
   ]
  },
  {
   "cell_type": "code",
   "execution_count": null,
   "metadata": {
    "collapsed": false
   },
   "outputs": [],
   "source": [
    "plt.figure(figsize=(10,8))\n",
    "plt.scatter(mtl['RA'], mtl['DEC'], color='blue', alpha=0.1, s=0.001)\n",
    "plt.plot(std['RA'], std['DEC'], 'm.')"
   ]
  },
  {
   "cell_type": "markdown",
   "metadata": {},
   "source": [
    "# Run quicksurvey\n"
   ]
  },
  {
   "cell_type": "markdown",
   "metadata": {},
   "source": [
    "## Fiberassign dates\n",
    "\n",
    "From the `surveysim` data we have to find the dates when `fiberassign` is expected to be run"
   ]
  },
  {
   "cell_type": "code",
   "execution_count": null,
   "metadata": {
    "collapsed": false
   },
   "outputs": [],
   "source": [
    "#get the dates when fiberassign should be run\n",
    "\n",
    "px = Table.read(os.getenv('DESISURVEY_OUTPUT')+'/progress.fits')\n",
    "fiberassign_dates = np.sort(list(set(px['available'])))\n",
    "fiberassign_dates = fiberassign_dates[fiberassign_dates>0]\n",
    "print(fiberassign_dates)\n",
    "\n",
    "#load the dark exposures\n",
    "exposurefile = os.path.join(surveydir,'exposures_dark.fits')\n",
    "exposures = Table.read(exposurefile)\n",
    "expdates = []\n",
    "for n in exposures['night']:\n",
    "    a = datetime.datetime.strptime(n, \"%Y-%m-%d\")\n",
    "    expdates.append(a.date())\n",
    "expdates = np.array(expdates)\n",
    "print(expdates, expdates)\n",
    "\n",
    "#load the first date of the survey\n",
    "survey_config = os.path.join(os.getenv('DESISURVEY_OUTPUT'),'config.yaml')\n",
    "with open(survey_config, 'r') as pfile:\n",
    "    params = yaml.load(pfile)\n",
    "pfile.close()\n",
    "first_day = params['first_day']\n",
    "last_day = params['last_day']\n",
    "\n",
    "#compute the dates to run fiberassign to be sure that there is at least one exposure there\n",
    "fiberassign_dates_dark = []\n",
    "one_day = datetime.timedelta(days=1)\n",
    "initial_day = first_day #expdates.min()\n",
    "for d in fiberassign_dates:\n",
    "    final_day = first_day + d * one_day\n",
    "    ii = (expdates > initial_day) & (expdates<=final_day)\n",
    "    n_in = np.count_nonzero(ii)\n",
    "    if n_in>0:\n",
    "        print(initial_day, final_day, n_in)\n",
    "        fiberassign_dates_dark.append(initial_day.strftime(\"%Y-%m-%d\"))\n",
    "        initial_day = final_day\n",
    "\n",
    "print(fiberassign_dates_dark)\n",
    "fiberdates_filename = os.path.join(fiberassigndir, 'fiberassign_dates_dark.txt')\n",
    "f = open(fiberdates_filename, 'w')\n",
    "for d in fiberassign_dates_dark:\n",
    "    f.write(d+\"\\n\")\n",
    "f.close()"
   ]
  },
  {
   "cell_type": "code",
   "execution_count": null,
   "metadata": {
    "collapsed": false
   },
   "outputs": [],
   "source": [
    "! cat /global/cscratch1/sd/forero/quicksurvey_example/fiberassign/fiberassign_dates_dark.txt"
   ]
  },
  {
   "cell_type": "code",
   "execution_count": null,
   "metadata": {
    "collapsed": false
   },
   "outputs": [],
   "source": [
    "quicksurvey_cmd = \"quicksurvey -T {targetdir} -E {exposures}  --output_dir {outputdir} -f $(which fiberassign)\"\n",
    "quicksurvey_cmd += \" -t {fiberassign_template} -D {fiberassign_dates}\"\n",
    "\n",
    "cmd = quicksurvey_cmd.format(targetdir=darktargetdir,\n",
    "                            exposures=surveydir+'/exposures_dark.fits', \n",
    "                            outputdir=zcatdarkdir, \n",
    "                            fiberassign_template=fiberassigndir+'/template_fiberassign_dark.txt', \n",
    "                            fiberassign_dates=fiberassigndir+'/fiberassign_dates_dark.txt')\n",
    "print(cmd)"
   ]
  },
  {
   "cell_type": "code",
   "execution_count": null,
   "metadata": {
    "collapsed": false
   },
   "outputs": [],
   "source": [
    "! $cmd"
   ]
  },
  {
   "cell_type": "markdown",
   "metadata": {},
   "source": [
    "The list above is the day count after survey start"
   ]
  },
  {
   "cell_type": "code",
   "execution_count": null,
   "metadata": {
    "collapsed": false
   },
   "outputs": [],
   "source": [
    "zcat     = fitsio.read(zcatdarkdir+'/3/zcat.fits')\n",
    "zcat_in_mtl = np.in1d(mtl['TARGETID'], zcat['TARGETID'])\n",
    "plt.figure(figsize=(10,8))\n",
    "plt.scatter(mtl['RA'], mtl['DEC'], c='b', alpha=0.1, s=0.01)\n",
    "plt.scatter(mtl[zcat_in_mtl]['RA'], mtl[zcat_in_mtl]['DEC'], c='r', alpha=0.4, s=0.05)\n",
    "print(np.count_nonzero(zcat_in_mtl))"
   ]
  }
 ],
 "metadata": {
  "anaconda-cloud": {},
  "kernelspec": {
   "display_name": "DESI dev",
   "language": "python",
   "name": "desi-dev"
  },
  "language_info": {
   "codemirror_mode": {
    "name": "ipython",
    "version": 3
   },
   "file_extension": ".py",
   "mimetype": "text/x-python",
   "name": "python",
   "nbconvert_exporter": "python",
   "pygments_lexer": "ipython3",
   "version": "3.5.3"
  }
 },
 "nbformat": 4,
 "nbformat_minor": 0
}

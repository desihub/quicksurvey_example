{
 "cells": [
  {
   "cell_type": "code",
   "execution_count": 1,
   "metadata": {
    "collapsed": false
   },
   "outputs": [],
   "source": [
    "import os\n",
    "import yaml\n",
    "from astropy.table import Table\n",
    "import matplotlib.pyplot as plt\n",
    "import healpy as hp\n",
    "import numpy as np\n",
    "import fitsio\n",
    "import datetime\n",
    "%matplotlib inline"
   ]
  },
  {
   "cell_type": "code",
   "execution_count": 2,
   "metadata": {
    "collapsed": true
   },
   "outputs": [],
   "source": [
    "import desisim\n",
    "import desisurvey\n",
    "import desimodel.io\n",
    "import desimodel.footprint"
   ]
  },
  {
   "cell_type": "markdown",
   "metadata": {},
   "source": [
    "# Environment Variables \n",
    "\n",
    "Set some environment variables and create output directories\n",
    "\n"
   ]
  },
  {
   "cell_type": "code",
   "execution_count": 15,
   "metadata": {
    "collapsed": true
   },
   "outputs": [],
   "source": [
    "alldirs = {}\n",
    "\n",
    "os.environ['DESISURVEY_OUTPUT'] = '/global/projecta/projectdirs/desi/datachallenge/surveysim2017/baseline_1m'\n",
    "\n",
    "basedir = os.path.join(os.environ['SCRATCH'],'quicksurvey_example')\n",
    "\n",
    "surveydir = os.path.join(basedir,'survey')\n",
    "fiberassigndir =  os.path.join(basedir, 'fiberassign')\n",
    "alldirs['surveydir'] = surveydir\n",
    "alldirs['fiberassigndir'] = fiberassigndir\n",
    "\n",
    "brighttargetdir = os.path.join(basedir,'targets/no_spectra/bright')\n",
    "darktargetdir = os.path.join(basedir,'targets/no_spectra/dark')\n",
    "alldirs['brighttargetdir'] = brighttargetdir\n",
    "alldirs['darktargetdir'] = darktargetdir\n",
    "\n",
    "zcatbrightdir = os.path.join(basedir,'zcat/bright')\n",
    "zcatdarkdir = os.path.join(basedir,'zcat/dark')\n",
    "alldirs['zcatbrightdir'] = zcatbrightdir\n",
    "alldirs['zcatdarkdir'] = zcatdarkdir\n",
    "\n",
    "alltargetdir = os.path.join(basedir,'targets/no_spectra/bright')\n",
    "zcatalldir = os.path.join(basedir,'zcat/all')\n",
    "alldirs['alltargetdir'] = alltargetdir\n",
    "alldirs['zcatalldir'] = zcatalldir\n",
    "\n"
   ]
  },
  {
   "cell_type": "code",
   "execution_count": 16,
   "metadata": {
    "collapsed": false
   },
   "outputs": [
    {
     "name": "stdout",
     "output_type": "stream",
     "text": [
      "Creating alltargetdir: /global/cscratch1/sd/forero/quicksurvey_example/targets/no_spectra/bright\n",
      "Creating darktargetdir: /global/cscratch1/sd/forero/quicksurvey_example/targets/no_spectra/dark\n",
      "Creating fiberassigndir: /global/cscratch1/sd/forero/quicksurvey_example/fiberassign\n",
      "Creating brighttargetdir: /global/cscratch1/sd/forero/quicksurvey_example/targets/no_spectra/bright\n",
      "Creating zcatdarkdir: /global/cscratch1/sd/forero/quicksurvey_example/zcat/dark\n",
      "Creating zcatalldir: /global/cscratch1/sd/forero/quicksurvey_example/zcat/all\n",
      "Creating zcatbrightdir: /global/cscratch1/sd/forero/quicksurvey_example/zcat/bright\n",
      "Creating surveydir: /global/cscratch1/sd/forero/quicksurvey_example/survey\n"
     ]
    }
   ],
   "source": [
    "for k in alldirs.keys():\n",
    "    print('Creating {}: {}'.format(k, alldirs[k]))\n",
    "    os.makedirs(alldirs[k], exist_ok=True)"
   ]
  },
  {
   "cell_type": "markdown",
   "metadata": {},
   "source": [
    "# Compute exposures files from `progress` data\n",
    "\n",
    "`progress.fits` is the file that summarizes the survey simulation performed with `desisurvey`\n",
    "\n",
    "We read that file and write to disk a file with all the `exposures`\n",
    "made during the survey and two more files with the exposures for dark and bright\n",
    "surveys. **NOTE**: We include grey exposures into `all_exposures_dark` file.\n",
    "\n",
    "Bright twilight tiles should be excluded because we don't have a right sky model, but we are including them here anyway."
   ]
  },
  {
   "cell_type": "code",
   "execution_count": 25,
   "metadata": {
    "collapsed": false
   },
   "outputs": [
    {
     "data": {
      "text/plain": [
       "datetime.date(2019, 12, 1)"
      ]
     },
     "execution_count": 25,
     "metadata": {},
     "output_type": "execute_result"
    }
   ],
   "source": [
    "from desisurvey.progress import Progress\n",
    "\n",
    "import desisurvey.config\n",
    "config = desisurvey.config.Configuration()\n",
    "config.first_day()"
   ]
  },
  {
   "cell_type": "code",
   "execution_count": 27,
   "metadata": {
    "collapsed": false
   },
   "outputs": [
    {
     "name": "stdout",
     "output_type": "stream",
     "text": [
      "INFO:progress.py:145:__init__: Loaded progress from /global/projecta/projectdirs/desi/datachallenge/surveysim2017/baseline_1m/progress.fits.\n"
     ]
    },
    {
     "name": "stderr",
     "output_type": "stream",
     "text": [
      "WARNING: ErfaWarning: ERFA function \"d2dtf\" yielded 1 of \"dubious year (Note 5)\" [astropy._erfa.core]\n",
      "WARNING: ErfaWarning: ERFA function \"dtf2d\" yielded 1 of \"dubious year (Note 6)\" [astropy._erfa.core]\n"
     ]
    }
   ],
   "source": [
    "progress_filename = os.path.join(os.environ['DESISURVEY_OUTPUT'],'progress.fits')\n",
    "exposures_filename = os.path.join(alldirs['surveydir'],'exposures.fits')\n",
    "Progress(restore=progress_filename).get_exposures().write(exposures_filename, overwrite=True)\n",
    "    \n",
    "explist = Table.read(exposures_filename)\n",
    "\n",
    "# separate the exposures for dark and bright programs\n",
    "isbright = explist['PASS'] > 4 \n",
    "isdark = ~isbright\n",
    "    \n",
    "exposurefile_bright = os.path.join(alldirs['surveydir'],'all_exposures_bright.fits')\n",
    "Table(explist[isbright]).write(exposurefile_bright, overwrite=True)\n",
    "\n",
    "exposurefile_dark = os.path.join(alldirs['surveydir'],'all_exposures_dark.fits')\n",
    "Table(explist[~isbright]).write(exposurefile_dark, overwrite=True)\n"
   ]
  },
  {
   "cell_type": "code",
   "execution_count": 28,
   "metadata": {
    "collapsed": false
   },
   "outputs": [
    {
     "ename": "KeyError",
     "evalue": "'ra'",
     "output_type": "error",
     "traceback": [
      "\u001b[0;31m---------------------------------------------------------------------------\u001b[0m",
      "\u001b[0;31mKeyError\u001b[0m                                  Traceback (most recent call last)",
      "\u001b[0;32m<ipython-input-28-486e43555034>\u001b[0m in \u001b[0;36m<module>\u001b[0;34m()\u001b[0m\n\u001b[1;32m      1\u001b[0m \u001b[0;31m# Make a simple plot\u001b[0m\u001b[0;34m\u001b[0m\u001b[0;34m\u001b[0m\u001b[0m\n\u001b[0;32m----> 2\u001b[0;31m \u001b[0mplt\u001b[0m\u001b[0;34m.\u001b[0m\u001b[0mplot\u001b[0m\u001b[0;34m(\u001b[0m\u001b[0mexplist\u001b[0m\u001b[0;34m[\u001b[0m\u001b[0;34m'ra'\u001b[0m\u001b[0;34m]\u001b[0m\u001b[0;34m[\u001b[0m\u001b[0misdark\u001b[0m\u001b[0;34m]\u001b[0m\u001b[0;34m,\u001b[0m \u001b[0mexplist\u001b[0m\u001b[0;34m[\u001b[0m\u001b[0;34m'dec'\u001b[0m\u001b[0;34m]\u001b[0m\u001b[0;34m[\u001b[0m\u001b[0misdark\u001b[0m\u001b[0;34m]\u001b[0m\u001b[0;34m,\u001b[0m \u001b[0;34m'kx'\u001b[0m\u001b[0;34m,\u001b[0m \u001b[0malpha\u001b[0m\u001b[0;34m=\u001b[0m\u001b[0;36m0.8\u001b[0m\u001b[0;34m,\u001b[0m \u001b[0mlabel\u001b[0m\u001b[0;34m=\u001b[0m\u001b[0;34m'dark'\u001b[0m\u001b[0;34m)\u001b[0m\u001b[0;34m\u001b[0m\u001b[0m\n\u001b[0m\u001b[1;32m      3\u001b[0m \u001b[0mplt\u001b[0m\u001b[0;34m.\u001b[0m\u001b[0mplot\u001b[0m\u001b[0;34m(\u001b[0m\u001b[0mexplist\u001b[0m\u001b[0;34m[\u001b[0m\u001b[0;34m'ra'\u001b[0m\u001b[0;34m]\u001b[0m\u001b[0;34m[\u001b[0m\u001b[0misgray\u001b[0m\u001b[0;34m]\u001b[0m\u001b[0;34m,\u001b[0m \u001b[0mexplist\u001b[0m\u001b[0;34m[\u001b[0m\u001b[0;34m'dec'\u001b[0m\u001b[0;34m]\u001b[0m\u001b[0;34m[\u001b[0m\u001b[0misgray\u001b[0m\u001b[0;34m]\u001b[0m\u001b[0;34m,\u001b[0m \u001b[0;34m'k.'\u001b[0m\u001b[0;34m,\u001b[0m \u001b[0malpha\u001b[0m\u001b[0;34m=\u001b[0m\u001b[0;36m0.2\u001b[0m\u001b[0;34m,\u001b[0m \u001b[0mlabel\u001b[0m\u001b[0;34m=\u001b[0m\u001b[0;34m'gray'\u001b[0m\u001b[0;34m)\u001b[0m\u001b[0;34m\u001b[0m\u001b[0m\n\u001b[1;32m      4\u001b[0m \u001b[0mplt\u001b[0m\u001b[0;34m.\u001b[0m\u001b[0mplot\u001b[0m\u001b[0;34m(\u001b[0m\u001b[0mexplist\u001b[0m\u001b[0;34m[\u001b[0m\u001b[0;34m'ra'\u001b[0m\u001b[0;34m]\u001b[0m\u001b[0;34m[\u001b[0m\u001b[0misbright\u001b[0m\u001b[0;34m]\u001b[0m\u001b[0;34m,\u001b[0m \u001b[0mexplist\u001b[0m\u001b[0;34m[\u001b[0m\u001b[0;34m'dec'\u001b[0m\u001b[0;34m]\u001b[0m\u001b[0;34m[\u001b[0m\u001b[0misbright\u001b[0m\u001b[0;34m]\u001b[0m\u001b[0;34m,\u001b[0m \u001b[0;34m'mx'\u001b[0m\u001b[0;34m,\u001b[0m \u001b[0malpha\u001b[0m\u001b[0;34m=\u001b[0m\u001b[0;36m0.8\u001b[0m\u001b[0;34m,\u001b[0m \u001b[0mlabel\u001b[0m\u001b[0;34m=\u001b[0m\u001b[0;34m'bright'\u001b[0m\u001b[0;34m)\u001b[0m\u001b[0;34m\u001b[0m\u001b[0m\n\u001b[1;32m      5\u001b[0m \u001b[0mplt\u001b[0m\u001b[0;34m.\u001b[0m\u001b[0mlegend\u001b[0m\u001b[0;34m(\u001b[0m\u001b[0mloc\u001b[0m\u001b[0;34m=\u001b[0m\u001b[0;34m'upper right'\u001b[0m\u001b[0;34m)\u001b[0m\u001b[0;34m\u001b[0m\u001b[0m\n",
      "\u001b[0;32m/global/common/cori/contrib/desi/desiconda/20170613-1.1.4-spectro/code/desiconda/20170613-1.1.4-spectro_conda/lib/python3.5/site-packages/astropy/table/table.py\u001b[0m in \u001b[0;36m__getitem__\u001b[0;34m(self, item)\u001b[0m\n\u001b[1;32m   1200\u001b[0m     \u001b[0;32mdef\u001b[0m \u001b[0m__getitem__\u001b[0m\u001b[0;34m(\u001b[0m\u001b[0mself\u001b[0m\u001b[0;34m,\u001b[0m \u001b[0mitem\u001b[0m\u001b[0;34m)\u001b[0m\u001b[0;34m:\u001b[0m\u001b[0;34m\u001b[0m\u001b[0m\n\u001b[1;32m   1201\u001b[0m         \u001b[0;32mif\u001b[0m \u001b[0misinstance\u001b[0m\u001b[0;34m(\u001b[0m\u001b[0mitem\u001b[0m\u001b[0;34m,\u001b[0m \u001b[0msix\u001b[0m\u001b[0;34m.\u001b[0m\u001b[0mstring_types\u001b[0m\u001b[0;34m)\u001b[0m\u001b[0;34m:\u001b[0m\u001b[0;34m\u001b[0m\u001b[0m\n\u001b[0;32m-> 1202\u001b[0;31m             \u001b[0;32mreturn\u001b[0m \u001b[0mself\u001b[0m\u001b[0;34m.\u001b[0m\u001b[0mcolumns\u001b[0m\u001b[0;34m[\u001b[0m\u001b[0mitem\u001b[0m\u001b[0;34m]\u001b[0m\u001b[0;34m\u001b[0m\u001b[0m\n\u001b[0m\u001b[1;32m   1203\u001b[0m         \u001b[0;32melif\u001b[0m \u001b[0misinstance\u001b[0m\u001b[0;34m(\u001b[0m\u001b[0mitem\u001b[0m\u001b[0;34m,\u001b[0m \u001b[0;34m(\u001b[0m\u001b[0mint\u001b[0m\u001b[0;34m,\u001b[0m \u001b[0mnp\u001b[0m\u001b[0;34m.\u001b[0m\u001b[0minteger\u001b[0m\u001b[0;34m)\u001b[0m\u001b[0;34m)\u001b[0m\u001b[0;34m:\u001b[0m\u001b[0;34m\u001b[0m\u001b[0m\n\u001b[1;32m   1204\u001b[0m             \u001b[0;32mreturn\u001b[0m \u001b[0mself\u001b[0m\u001b[0;34m.\u001b[0m\u001b[0mRow\u001b[0m\u001b[0;34m(\u001b[0m\u001b[0mself\u001b[0m\u001b[0;34m,\u001b[0m \u001b[0mitem\u001b[0m\u001b[0;34m)\u001b[0m\u001b[0;34m\u001b[0m\u001b[0m\n",
      "\u001b[0;32m/global/common/cori/contrib/desi/desiconda/20170613-1.1.4-spectro/code/desiconda/20170613-1.1.4-spectro_conda/lib/python3.5/site-packages/astropy/table/table.py\u001b[0m in \u001b[0;36m__getitem__\u001b[0;34m(self, item)\u001b[0m\n\u001b[1;32m    108\u001b[0m         \"\"\"\n\u001b[1;32m    109\u001b[0m         \u001b[0;32mif\u001b[0m \u001b[0misinstance\u001b[0m\u001b[0;34m(\u001b[0m\u001b[0mitem\u001b[0m\u001b[0;34m,\u001b[0m \u001b[0msix\u001b[0m\u001b[0;34m.\u001b[0m\u001b[0mstring_types\u001b[0m\u001b[0;34m)\u001b[0m\u001b[0;34m:\u001b[0m\u001b[0;34m\u001b[0m\u001b[0m\n\u001b[0;32m--> 110\u001b[0;31m             \u001b[0;32mreturn\u001b[0m \u001b[0mOrderedDict\u001b[0m\u001b[0;34m.\u001b[0m\u001b[0m__getitem__\u001b[0m\u001b[0;34m(\u001b[0m\u001b[0mself\u001b[0m\u001b[0;34m,\u001b[0m \u001b[0mitem\u001b[0m\u001b[0;34m)\u001b[0m\u001b[0;34m\u001b[0m\u001b[0m\n\u001b[0m\u001b[1;32m    111\u001b[0m         \u001b[0;32melif\u001b[0m \u001b[0misinstance\u001b[0m\u001b[0;34m(\u001b[0m\u001b[0mitem\u001b[0m\u001b[0;34m,\u001b[0m \u001b[0;34m(\u001b[0m\u001b[0mint\u001b[0m\u001b[0;34m,\u001b[0m \u001b[0mnp\u001b[0m\u001b[0;34m.\u001b[0m\u001b[0minteger\u001b[0m\u001b[0;34m)\u001b[0m\u001b[0;34m)\u001b[0m\u001b[0;34m:\u001b[0m\u001b[0;34m\u001b[0m\u001b[0m\n\u001b[1;32m    112\u001b[0m             \u001b[0;32mreturn\u001b[0m \u001b[0mself\u001b[0m\u001b[0;34m.\u001b[0m\u001b[0mvalues\u001b[0m\u001b[0;34m(\u001b[0m\u001b[0;34m)\u001b[0m\u001b[0;34m[\u001b[0m\u001b[0mitem\u001b[0m\u001b[0;34m]\u001b[0m\u001b[0;34m\u001b[0m\u001b[0m\n",
      "\u001b[0;31mKeyError\u001b[0m: 'ra'"
     ]
    }
   ],
   "source": [
    "# Make a simple plot\n",
    "plt.plot(explist['ra'][isdark], explist['dec'][isdark], 'kx', alpha=0.8, label='dark')\n",
    "plt.plot(explist['ra'][isgray], explist['dec'][isgray], 'k.', alpha=0.2, label='gray')\n",
    "plt.plot(explist['ra'][isbright], explist['dec'][isbright], 'mx', alpha=0.8, label='bright')\n",
    "plt.legend(loc='upper right')"
   ]
  },
  {
   "cell_type": "markdown",
   "metadata": {
    "collapsed": false
   },
   "source": [
    "# Select a subset of tiles\n",
    "\n",
    "We pick 20 tiles nearest RA=180, dec=18. That are already included in the survey simulation outputs.\n",
    "`fiberassign` will run on those tiles."
   ]
  },
  {
   "cell_type": "code",
   "execution_count": null,
   "metadata": {
    "collapsed": false
   },
   "outputs": [],
   "source": [
    "tiles = desimodel.io.load_tiles()\n",
    "explist = Table.read(os.path.join(alldirs['surveydir'],'exposures.fits').replace('$SCRATCH',os.environ['SCRATCH']))"
   ]
  },
  {
   "cell_type": "code",
   "execution_count": null,
   "metadata": {
    "collapsed": false
   },
   "outputs": [],
   "source": [
    "ntiles = 20\n",
    "\n",
    "xtiles = tiles[np.in1d(tiles['TILEID'], explist['tileid'])]\n",
    "xyz = hp.ang2vec(xtiles['ra'], xtiles['dec'], lonlat=True)\n",
    "center = hp.ang2vec(180, 18, lonlat=True)\n",
    "d2 = ((xyz - center)**2).sum(axis=1)\n",
    "ii = np.argsort(d2)[0:ntiles]\n",
    "xtiles = xtiles[ii]\n",
    "\n",
    "nexp = np.count_nonzero(np.in1d(explist['tileid'], xtiles['TILEID']))\n",
    "print('{} tiles covered by {} exposures'.format(len(xtiles), nexp))"
   ]
  },
  {
   "cell_type": "code",
   "execution_count": null,
   "metadata": {
    "collapsed": false
   },
   "outputs": [],
   "source": [
    "#- row indices of exposures of the selected tiles\n",
    "iobs = np.where(np.in1d(explist['tileid'], xtiles['TILEID']))[0]\n",
    "assert np.all(np.in1d(explist['tileid'][iobs], xtiles['TILEID']))\n",
    "print(iobs)\n",
    "\n",
    "# The exposure list could have a repeated tileid. That would mean that \n",
    "# the tile had to be targetted more than once.\n",
    "explist[iobs]"
   ]
  },
  {
   "cell_type": "code",
   "execution_count": null,
   "metadata": {
    "collapsed": false
   },
   "outputs": [],
   "source": [
    "# save the reduce list of exposures for bright and dark/gray survey\n",
    "mini_explist = explist[iobs]\n",
    "isbright = mini_explist['pass'] > 4\n",
    "\n",
    "exposurefile_bright = os.path.join(surveydir,'mini_exposures_bright.fits')\n",
    "Table(mini_explist[isbright]).write(exposurefile_bright, overwrite=True)\n",
    "\n",
    "\n",
    "exposurefile_dark = os.path.join(surveydir,'mini_exposures_dark.fits')\n",
    "Table(mini_explist[~isbright]).write(exposurefile_dark, overwrite=True)\n",
    "\n",
    "\n",
    "exposurefile = os.path.join(surveydir,'mini_exposures.fits')\n",
    "Table(mini_explist).write(exposurefile, overwrite=True)"
   ]
  },
  {
   "cell_type": "code",
   "execution_count": null,
   "metadata": {
    "collapsed": false
   },
   "outputs": [],
   "source": [
    "Table(mini_explist[isbright])"
   ]
  },
  {
   "cell_type": "code",
   "execution_count": null,
   "metadata": {
    "collapsed": false
   },
   "outputs": [],
   "source": [
    "Table(mini_explist[~isbright])"
   ]
  },
  {
   "cell_type": "markdown",
   "metadata": {},
   "source": [
    "Plot the tiles and pixels"
   ]
  },
  {
   "cell_type": "code",
   "execution_count": null,
   "metadata": {
    "collapsed": false
   },
   "outputs": [],
   "source": [
    "def plot_tile(ra, dec, r=1.606, color='k'):\n",
    "    '''Approximate plot of tile location'''\n",
    "    ang = np.linspace(0, 2*np.pi, 100)\n",
    "    x = ra + r*np.cos(ang)/np.cos(np.radians(dec))\n",
    "    y = dec + r*np.sin(ang)\n",
    "    plt.plot(x,y, '-', color=color)\n",
    "\n",
    "\n",
    "plt.figure(figsize=(12,3))\n",
    "plt.subplot(121)\n",
    "plt.plot(tiles['RA'], tiles['DEC'], 'k,', alpha=0.5)\n",
    "plt.plot(explist['ra'], explist['dec'], 'b.', alpha=0.5)\n",
    "plt.plot(xtiles['RA'], xtiles['DEC'], 'rx')\n",
    "plt.xlim(0,360); plt.ylim(-20, 80)\n",
    "\n",
    "plt.xlim(175, 185); plt.ylim(13, 23)"
   ]
  },
  {
   "cell_type": "code",
   "execution_count": null,
   "metadata": {
    "collapsed": false
   },
   "outputs": [],
   "source": [
    "#- Write subset of tiles table to file for input to select_mock_targets --no-spectra\n",
    "tilefile = os.path.join(alldirs['darktargetdir'],'test-tiles.fits')\n",
    "Table(xtiles).write(tilefile, overwrite=True)\n",
    "\n",
    "tilefile = os.path.join(alldirs['brighttargetdir'],'test-tiles.fits')\n",
    "Table(xtiles).write(tilefile, overwrite=True)\n",
    "Table(xtiles)"
   ]
  },
  {
   "cell_type": "markdown",
   "metadata": {},
   "source": [
    "# Run serial select_mock_targets --no-spectra"
   ]
  },
  {
   "cell_type": "code",
   "execution_count": null,
   "metadata": {
    "collapsed": false
   },
   "outputs": [],
   "source": [
    "select_mock_targets_cmd  = \"select_mock_targets --no-spectra -c {yamlconfigfile} --nside {healpixnside} --output_dir {outputdir} --seed {seed} --tiles {tilefile}\"\n",
    "\n",
    "cmd = select_mock_targets_cmd.format(yamlconfigfile=os.path.join(alldirs['darktargetdir'],'select-mock-targets-dark.yaml'),\n",
    "                                    healpixnside=16,\n",
    "                                    outputdir=darktargetdir,\n",
    "                                    seed=10,\n",
    "                                    tilefile=os.path.join(alldirs['darktargetdir'],'test-tiles.fits'))\n",
    "print('# Copy and paste this command into a login terminal:\\n')\n",
    "print(cmd)"
   ]
  },
  {
   "cell_type": "code",
   "execution_count": null,
   "metadata": {
    "collapsed": false
   },
   "outputs": [],
   "source": [
    "cmd = \"join_mock_targets --force --mockdir \"+darktargetdir\n",
    "print('# Copy and paste this command into a login terminal:\\n')\n",
    "print(cmd)"
   ]
  },
  {
   "cell_type": "code",
   "execution_count": null,
   "metadata": {
    "collapsed": true
   },
   "outputs": [],
   "source": [
    "# some sanity checks on the results"
   ]
  },
  {
   "cell_type": "code",
   "execution_count": null,
   "metadata": {
    "collapsed": false
   },
   "outputs": [],
   "source": [
    "targets = fitsio.read(os.path.join(alldirs['darktargetdir'],'targets.fits'))\n",
    "truth   = fitsio.read(os.path.join(alldirs['darktargetdir'],'truth.fits'))\n",
    "mtl     = fitsio.read(os.path.join(alldirs['darktargetdir'],'mtl.fits'))\n",
    "std     = fitsio.read(os.path.join(alldirs['darktargetdir'],'standards-dark.fits'))\n",
    "sky     = fitsio.read(os.path.join(alldirs['darktargetdir'],'sky.fits'))"
   ]
  },
  {
   "cell_type": "code",
   "execution_count": null,
   "metadata": {
    "collapsed": true
   },
   "outputs": [],
   "source": [
    "assert len(truth) == len(targets)                             #- same number of targets and truth\n",
    "assert np.all(targets['TARGETID'] == truth['TARGETID'])       #- targets and truth are row matched\n",
    "assert len(targets) == len(np.unique(targets['TARGETID']))    #- no repeated TARGETIDs\n",
    "assert len(sky) == len(np.unique(sky['TARGETID']))            #- no repeated sky TARGETIDs\n",
    "assert len(std) == len(np.unique(std['TARGETID']))            #- no repeated std TARGETIDs\n",
    "\n",
    "assert np.all(np.in1d(targets['TARGETID'], mtl['TARGETID']))  #- all targets are in MTL\n",
    "\n",
    "#- no sky targets should be in science targets, though it is possible for standards to also be MWS targets\n",
    "assert not np.any(np.in1d(sky['TARGETID'], targets['TARGETID']))"
   ]
  },
  {
   "cell_type": "code",
   "execution_count": null,
   "metadata": {
    "collapsed": false
   },
   "outputs": [],
   "source": [
    "plt.figure(figsize=(10,8))\n",
    "plt.scatter(mtl['RA'], mtl['DEC'], color='blue', alpha=0.1, s=0.01)\n",
    "plt.plot(std['RA'], std['DEC'], 'm.')"
   ]
  },
  {
   "cell_type": "markdown",
   "metadata": {},
   "source": [
    "# Run quicksurvey\n"
   ]
  },
  {
   "cell_type": "markdown",
   "metadata": {},
   "source": [
    "## Fiberassign dates\n",
    "\n",
    "From the `surveysim` data we have to find the dates when `fiberassign` is expected to be run"
   ]
  },
  {
   "cell_type": "code",
   "execution_count": null,
   "metadata": {
    "collapsed": false
   },
   "outputs": [],
   "source": [
    "def compute_fiberassign_dates(exposurefile, outputfile):\n",
    "    \"\"\"\n",
    "    Computes the dates to read fiberassign from the data in a 'exposures' files.\n",
    "    \n",
    "    Args:\n",
    "        exposurefile (str):\n",
    "        Name of the file with 'exposures' data\n",
    "    Return:\n",
    "        fiberassign_dates_run (list):\n",
    "        List of string dates where fiberassign should be run.\n",
    "    \"\"\"\n",
    "    desisurvey_path = os.getenv('DESISURVEY_OUTPUT')\n",
    "    exposures = Table.read(exposurefile)\n",
    "    expdates = []\n",
    "    for n in exposures['night']:\n",
    "        a = datetime.datetime.strptime(n, \"%Y-%m-%d\")\n",
    "        expdates.append(a.date())\n",
    "    expdates = np.array(expdates)\n",
    "\n",
    "    # compute the dates for fiberassign\n",
    "    progress = Table.read(os.path.join(desisurvey_path,'progress.fits'))\n",
    "    fiberassign_dates = np.sort(list(set(progress['available'])))\n",
    "    fiberassign_dates = fiberassign_dates[fiberassign_dates>0]\n",
    "    \n",
    "    #load the first date of the survey\n",
    "    survey_config = os.path.join(desisurvey_path,'config.yaml')\n",
    "    with open(survey_config, 'r') as pfile:\n",
    "        params = yaml.load(pfile)\n",
    "    pfile.close()\n",
    "    first_day = params['first_day']\n",
    "    last_day = params['last_day']\n",
    " #   print(first_day, last_day)\n",
    "    \n",
    "    #compute the dates to run fiberassign to be sure that there is at least one exposure there\n",
    "    fiberassign_dates_run = []\n",
    "    one_day = datetime.timedelta(days=1)\n",
    "    initial_day = first_day \n",
    "    for d in fiberassign_dates:\n",
    "        final_day = first_day + d * one_day\n",
    "        ii = (expdates > initial_day) & (expdates<=final_day)\n",
    "        n_in = np.count_nonzero(ii)\n",
    "        if n_in>0:\n",
    "#            print(initial_day, final_day, n_in)\n",
    "            fiberassign_dates_run.append(initial_day.strftime(\"%Y-%m-%d\"))\n",
    "            initial_day = final_day\n",
    "    f = open(outputfile, 'w')\n",
    "    for d in fiberassign_dates_run:\n",
    "        f.write(d+\"\\n\")\n",
    "    f.close()"
   ]
  },
  {
   "cell_type": "code",
   "execution_count": null,
   "metadata": {
    "collapsed": false
   },
   "outputs": [],
   "source": [
    "fiberassignfile_dates_dark = os.path.join(alldirs['fiberassigndir'], 'fiberassign_dates_dark.txt')\n",
    "exposurefile_bright = exposurefile_dark.replace('$SCRATCH',os.environ['SCRATCH'])\n",
    "fiberassignfile_dates_dark = fiberassignfile_dates_dark.replace('$SCRATCH',os.environ['SCRATCH'])\n",
    "compute_fiberassign_dates(exposurefile_dark, fiberassignfile_dates_dark)"
   ]
  },
  {
   "cell_type": "code",
   "execution_count": null,
   "metadata": {
    "collapsed": false
   },
   "outputs": [],
   "source": [
    "! cat $fiberassignfile_dates_dark"
   ]
  },
  {
   "cell_type": "code",
   "execution_count": null,
   "metadata": {
    "collapsed": false
   },
   "outputs": [],
   "source": [
    "quicksurvey_cmd = \"quicksurvey -T {targetdir} -E {exposures}  --output_dir {outputdir} -f $(which fiberassign)\"\n",
    "quicksurvey_cmd += \" -t {fiberassign_template} -D {fiberassign_dates}\"\n",
    "\n",
    "cmd = quicksurvey_cmd.format(targetdir=alldirs['darktargetdir'],\n",
    "                            exposures=alldirs['surveydir']+'/mini_exposures_dark.fits', \n",
    "                            outputdir=alldirs['zcatdarkdir'], \n",
    "                            fiberassign_template=alldirs['fiberassigndir']+'/template_fiberassign_dark.txt', \n",
    "                            fiberassign_dates=alldirs['fiberassigndir']+'/fiberassign_dates_dark.txt')\n",
    "print('# Copy and paste this command into a login terminal:\\n')\n",
    "print(cmd)"
   ]
  },
  {
   "cell_type": "markdown",
   "metadata": {},
   "source": [
    "# Read the final redshift catalog\n",
    "\n",
    "Read the final redshift catalog.\n",
    "\n",
    "Blue: input catalog.\n",
    "Red: objects with a redshift."
   ]
  },
  {
   "cell_type": "code",
   "execution_count": null,
   "metadata": {
    "collapsed": false
   },
   "outputs": [],
   "source": [
    "zcatfilename = os.path.join(alldirs['zcatdarkdir'],'3/zcat.fits')\n",
    "zcat     = fitsio.read(zcatfilename)\n",
    "zcat_in_mtl = np.in1d(mtl['TARGETID'], zcat['TARGETID'])\n",
    "plt.figure(figsize=(10,8))\n",
    "plt.scatter(mtl['RA'], mtl['DEC'], c='b', alpha=0.1, s=0.01)\n",
    "plt.scatter(mtl[zcat_in_mtl]['RA'], mtl[zcat_in_mtl]['DEC'], c='r', alpha=0.4, s=0.05)\n",
    "print(np.count_nonzero(zcat_in_mtl))"
   ]
  },
  {
   "cell_type": "code",
   "execution_count": null,
   "metadata": {
    "collapsed": false
   },
   "outputs": [],
   "source": [
    "a = plt.hist(zcat['Z'], bins=np.linspace(0.0,3.5,20))"
   ]
  },
  {
   "cell_type": "code",
   "execution_count": null,
   "metadata": {
    "collapsed": true
   },
   "outputs": [],
   "source": []
  }
 ],
 "metadata": {
  "anaconda-cloud": {},
  "kernelspec": {
   "display_name": "DESI dev",
   "language": "python",
   "name": "desi-dev"
  },
  "language_info": {
   "codemirror_mode": {
    "name": "ipython",
    "version": 3
   },
   "file_extension": ".py",
   "mimetype": "text/x-python",
   "name": "python",
   "nbconvert_exporter": "python",
   "pygments_lexer": "ipython3",
   "version": "3.5.3"
  }
 },
 "nbformat": 4,
 "nbformat_minor": 0
}

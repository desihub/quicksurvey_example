{
 "cells": [
  {
   "cell_type": "code",
   "execution_count": 2,
   "metadata": {
    "collapsed": false
   },
   "outputs": [],
   "source": [
    "import os\n",
    "import yaml\n",
    "from astropy.table import Table\n",
    "import matplotlib.pyplot as plt\n",
    "import healpy as hp\n",
    "import numpy as np\n",
    "import fitsio\n",
    "import datetime\n",
    "%matplotlib inline"
   ]
  },
  {
   "cell_type": "code",
   "execution_count": 3,
   "metadata": {
    "collapsed": true
   },
   "outputs": [],
   "source": [
    "import desisim\n",
    "import desisurvey\n",
    "import desimodel.io\n",
    "import desimodel.footprint"
   ]
  },
  {
   "cell_type": "markdown",
   "metadata": {},
   "source": [
    "# Environment Variables \n",
    "\n",
    "Set some environment variables and create output directories\n",
    "\n",
    "`$DESISURVEY` = `${SCRATCH}`/quicksurvey_example/survey/"
   ]
  },
  {
   "cell_type": "code",
   "execution_count": null,
   "metadata": {
    "collapsed": true
   },
   "outputs": [],
   "source": [
    "alldirs = {}\n",
    "basedir = os.path.join(os.getenv('SCRATCH'),'quicksurvey_example')\n",
    "surveydir = os.environ['DESISURVEY_OUTPUT'] = os.path.join(basedir,'survey')\n",
    "fiberassigndir =  os.path.join(basedir, 'fiberassign')\n",
    "alldirs['surveydir'] = surveydir\n",
    "alldirs['fiberassigndir'] = fiberassigndir\n",
    "\n",
    "brighttargetdir = os.path.join(basedir,'targets/no_spectra/bright')\n",
    "darktargetdir = os.path.join(basedir,'targets/no_spectra/dark')\n",
    "alldirs['brighttargetdir'] = brighttargetdir\n",
    "alldirs['darktargetdir'] = darktargetdir\n",
    "\n",
    "zcatbrightdir = os.path.join(basedir,'zcat/bright')\n",
    "zcatdarkdir = os.path.join(basedir,'zcat/dark')\n",
    "alldirs['zcatbrightdir'] = zcatbrightdir\n",
    "alldirs['zcatdarkdir'] = zcatdarkdir\n",
    "\n",
    "alltargetdir = os.path.join(basedir,'targets/no_spectra/bright')\n",
    "zcatalldir = os.path.join(basedir,'zcat/all')\n",
    "alldirs['alltargetdir'] = alltargetdir\n",
    "alldirs['zcatalldir'] = zcatalldir"
   ]
  },
  {
   "cell_type": "code",
   "execution_count": null,
   "metadata": {
    "collapsed": false
   },
   "outputs": [],
   "source": [
    "for k in alldirs.keys():\n",
    "    print('Creating {}: {}'.format(k, alldirs[k]))\n",
    "    os.makedirs(alldirs[k], exist_ok=True)"
   ]
  },
  {
   "cell_type": "markdown",
   "metadata": {},
   "source": [
    "# Survey Plan"
   ]
  },
  {
   "cell_type": "markdown",
   "metadata": {},
   "source": [
    "We create a list of tiles to be observed by running `surveyplan` and `surveysim` for the first year of the survey.\n",
    "The configuration file we used is"
   ]
  },
  {
   "cell_type": "code",
   "execution_count": null,
   "metadata": {
    "collapsed": false
   },
   "outputs": [],
   "source": [
    "cmd  = 'cat  {}/config.yaml'.format(os.environ['DESISURVEY_OUTPUT'])\n",
    "! $cmd"
   ]
  },
  {
   "cell_type": "markdown",
   "metadata": {},
   "source": [
    "And the detailed script is"
   ]
  },
  {
   "cell_type": "code",
   "execution_count": null,
   "metadata": {
    "collapsed": false
   },
   "outputs": [],
   "source": [
    "cmd  = 'cat  {}/surveysim_baseline.sh'.format(os.environ['DESISURVEY_OUTPUT'])\n",
    "! $cmd"
   ]
  },
  {
   "cell_type": "markdown",
   "metadata": {},
   "source": [
    "This takes almost four hours to run. \n",
    "If you don't want to run it, you can skip to **Run Select Mock Targets**"
   ]
  },
  {
   "cell_type": "code",
   "execution_count": null,
   "metadata": {
    "collapsed": false
   },
   "outputs": [],
   "source": [
    "cmd  = '{}/surveysim_baseline.sh'.format(os.environ['DESISURVEY_OUTPUT'])\n",
    "print(cmd)\n",
    "# !$cmd"
   ]
  },
  {
   "cell_type": "markdown",
   "metadata": {},
   "source": [
    "# Read exposures list\n",
    "Select a subset of tiles selected to have dark, gray, and bright.\n",
    "Bright twilight tiles should be excluded because we don't have a right sky model, but we are including them here anyway."
   ]
  },
  {
   "cell_type": "code",
   "execution_count": null,
   "metadata": {
    "collapsed": false
   },
   "outputs": [],
   "source": [
    "from desisurvey.progress import Progress\n",
    "\n",
    "explist = Progress('progress.fits').get_exposures()\n",
    "isbright = explist['pass'] > 4 \n",
    "isgray = explist['pass'] == 4\n",
    "isdark = explist['pass'] < 4\n",
    "istwilight = isbright & (explist['moonalt'] < 0)"
   ]
  },
  {
   "cell_type": "code",
   "execution_count": null,
   "metadata": {
    "collapsed": false
   },
   "outputs": [],
   "source": [
    "plt.plot(explist['ra'][isdark], explist['dec'][isdark], 'kx', alpha=0.8, label='dark')\n",
    "plt.plot(explist['ra'][isgray], explist['dec'][isgray], 'k.', alpha=0.2, label='gray')\n",
    "plt.plot(explist['ra'][isbright], explist['dec'][isbright], 'mx', alpha=0.8, label='bright')\n",
    "plt.legend(loc='upper right')"
   ]
  },
  {
   "cell_type": "markdown",
   "metadata": {},
   "source": [
    "Pick 20 tiles nearest RA=180, dec=18"
   ]
  },
  {
   "cell_type": "code",
   "execution_count": null,
   "metadata": {
    "collapsed": false
   },
   "outputs": [],
   "source": [
    "tiles = desimodel.io.load_tiles()\n",
    "\n",
    "ntiles = 20\n",
    "xtiles = tiles[np.in1d(tiles['TILEID'], explist['tileid'])]\n",
    "xyz = hp.ang2vec(xtiles['ra'], xtiles['dec'], lonlat=True)\n",
    "center = hp.ang2vec(180, 18, lonlat=True)\n",
    "d2 = ((xyz - center)**2).sum(axis=1)\n",
    "ii = np.argsort(d2)[0:ntiles]\n",
    "xtiles = xtiles[ii]\n",
    "nside = 64\n",
    "pixels = desimodel.footprint.tiles2pix(nside, xtiles)\n",
    "nexp = np.count_nonzero(np.in1d(explist['tileid'], xtiles['TILEID']) & ~istwilight)\n",
    "print('{} tiles covered by {} exposures and {} healpixels'.format(len(xtiles), nexp, len(pixels)))"
   ]
  },
  {
   "cell_type": "code",
   "execution_count": null,
   "metadata": {
    "collapsed": false
   },
   "outputs": [],
   "source": [
    "#- row indices of exposures of the selected tiles\n",
    "iobs = np.where(np.in1d(explist['tileid'], xtiles['TILEID']))[0]\n",
    "assert np.all(np.in1d(explist['tileid'][iobs], xtiles['TILEID']))\n",
    "print(iobs)\n",
    "print(pixels, len(pixels))\n",
    "\n",
    "# The exposure list could have a repeated tileid. That would mean that \n",
    "# the tile had to be targetted more than once.\n",
    "explist[iobs]"
   ]
  },
  {
   "cell_type": "code",
   "execution_count": null,
   "metadata": {
    "collapsed": false
   },
   "outputs": [],
   "source": [
    "# save the reduce list of exposures for bright and dark/gray survey\n",
    "mini_explist = explist[iobs]\n",
    "isbright = mini_explist['pass'] > 4\n",
    "\n",
    "exposurefile = os.path.join(surveydir,'exposures_bright.fits')\n",
    "Table(mini_explist[isbright]).write(exposurefile, overwrite=True)\n",
    "\n",
    "\n",
    "exposurefile = os.path.join(surveydir,'exposures_dark.fits')\n",
    "Table(mini_explist[~isbright]).write(exposurefile, overwrite=True)\n",
    "\n",
    "\n",
    "exposurefile = os.path.join(surveydir,'exposures_all.fits')\n",
    "Table(mini_explist).write(exposurefile, overwrite=True)"
   ]
  },
  {
   "cell_type": "code",
   "execution_count": null,
   "metadata": {
    "collapsed": false
   },
   "outputs": [],
   "source": [
    "Table(mini_explist[isbright])"
   ]
  },
  {
   "cell_type": "code",
   "execution_count": null,
   "metadata": {
    "collapsed": false
   },
   "outputs": [],
   "source": [
    "Table(mini_explist[~isbright])"
   ]
  },
  {
   "cell_type": "markdown",
   "metadata": {},
   "source": [
    "Plot the tiles and pixels"
   ]
  },
  {
   "cell_type": "code",
   "execution_count": null,
   "metadata": {
    "collapsed": false
   },
   "outputs": [],
   "source": [
    "def plot_tile(ra, dec, r=1.606, color='k'):\n",
    "    '''Approximate plot of tile location'''\n",
    "    ang = np.linspace(0, 2*np.pi, 100)\n",
    "    x = ra + r*np.cos(ang)/np.cos(np.radians(dec))\n",
    "    y = dec + r*np.sin(ang)\n",
    "    plt.plot(x,y, '-', color=color)\n",
    "\n",
    "def plot_healpix(nside, pixels):\n",
    "    '''Plot healpix boundaries; doesn't work at RA wraparound'''\n",
    "    for p in pixels:\n",
    "        xyz = hp.boundaries(nside, p, nest=True)\n",
    "        theta, phi = hp.vec2ang(xyz.T)\n",
    "        theta = np.concatenate([theta, theta[0:1]])\n",
    "        phi = np.concatenate([phi, phi[0:1]])\n",
    "        ra, dec = np.degrees(phi), 90-np.degrees(theta)\n",
    "        plt.plot(ra, dec, '-', color='0.6')\n",
    "\n",
    "plt.figure(figsize=(12,3))\n",
    "plt.subplot(121)\n",
    "plt.plot(tiles['RA'], tiles['DEC'], 'k,', alpha=0.5)\n",
    "plt.plot(explist['ra'], explist['dec'], 'b.', alpha=0.5)\n",
    "plt.plot(xtiles['RA'], xtiles['DEC'], 'rx')\n",
    "plt.xlim(0,360); plt.ylim(-20, 80)\n",
    "\n",
    "plt.subplot(122)\n",
    "plot_healpix(nside, pixels)\n",
    "color = dict(DARK='black', GRAY='blue', BRIGHT='magenta')\n",
    "for program in ['DARK', 'GRAY', 'BRIGHT']:\n",
    "    ii = tiles['PROGRAM'] == program\n",
    "    plt.plot(tiles['RA'][ii], tiles['DEC'][ii], '.', color=color[program], alpha=0.5)\n",
    "    jj = xtiles['PROGRAM'] == program\n",
    "    for t in xtiles[jj]:\n",
    "        plot_tile(t['RA'], t['DEC'], color=color[program])\n",
    "\n",
    "plt.xlim(170, 190); plt.ylim(13, 23)"
   ]
  },
  {
   "cell_type": "code",
   "execution_count": null,
   "metadata": {
    "collapsed": false
   },
   "outputs": [],
   "source": [
    "#- Write subset of tiles table to file for input to select_mock_targets --no-spectra\n",
    "tilefile = os.path.join(darktargetdir,'test-tiles.fits')\n",
    "Table(xtiles).write(tilefile, overwrite=True)\n",
    "tilefile = os.path.join(brighttargetdir,'test-tiles.fits')\n",
    "Table(xtiles).write(tilefile, overwrite=True)\n",
    "Table(xtiles)"
   ]
  },
  {
   "cell_type": "markdown",
   "metadata": {},
   "source": [
    "# Run serial select_mock_targets --no-spectra"
   ]
  },
  {
   "cell_type": "code",
   "execution_count": null,
   "metadata": {
    "collapsed": false
   },
   "outputs": [],
   "source": [
    "select_mock_targets_cmd  = \"select_mock_targets --no-spectra -c {yamlconfigfile} --nside {healpixnside} --output_dir {outputdir} --seed {seed} --tiles {tilefile}\"\n",
    "\n",
    "cmd = select_mock_targets_cmd.format(yamlconfigfile=os.path.join(darktargetdir,'select-mock-targets-dark.yaml'),\n",
    "                                    healpixnside=16,\n",
    "                                    outputdir=darktargetdir,\n",
    "                                    seed=10,\n",
    "                                    tilefile=os.path.join(darktargetdir,'test-tiles.fits'))\n",
    "print(cmd)\n",
    "#!  -c quicksurvey_example/targets/select-mock-targets.yaml --nside 16 --no-spectra --output_dir ./tmpoutsmall --seed 42 --tiles quicksurvey_example/targets/test-tiles.fits "
   ]
  },
  {
   "cell_type": "code",
   "execution_count": null,
   "metadata": {
    "collapsed": false
   },
   "outputs": [],
   "source": [
    "!$cmd"
   ]
  },
  {
   "cell_type": "code",
   "execution_count": null,
   "metadata": {
    "collapsed": false
   },
   "outputs": [],
   "source": [
    "cmd = \"join_mock_targets --force --mockdir \"+darktargetdir\n",
    "! $cmd"
   ]
  },
  {
   "cell_type": "code",
   "execution_count": null,
   "metadata": {
    "collapsed": true
   },
   "outputs": [],
   "source": [
    "# some sanity checks on the results"
   ]
  },
  {
   "cell_type": "code",
   "execution_count": null,
   "metadata": {
    "collapsed": false
   },
   "outputs": [],
   "source": [
    "targets = fitsio.read(darktargetdir+'/targets.fits')\n",
    "truth   = fitsio.read(darktargetdir+'/truth.fits')\n",
    "mtl     = fitsio.read(darktargetdir+'/mtl.fits')\n",
    "std     = fitsio.read(darktargetdir+'/standards-dark.fits')\n",
    "sky     = fitsio.read(darktargetdir+'/sky.fits')"
   ]
  },
  {
   "cell_type": "code",
   "execution_count": null,
   "metadata": {
    "collapsed": true
   },
   "outputs": [],
   "source": [
    "assert len(truth) == len(targets)                             #- same number of targets and truth\n",
    "assert np.all(targets['TARGETID'] == truth['TARGETID'])       #- targets and truth are row matched\n",
    "assert len(targets) == len(np.unique(targets['TARGETID']))    #- no repeated TARGETIDs\n",
    "assert len(sky) == len(np.unique(sky['TARGETID']))            #- no repeated sky TARGETIDs\n",
    "assert len(std) == len(np.unique(std['TARGETID']))            #- no repeated std TARGETIDs\n",
    "\n",
    "assert np.all(np.in1d(targets['TARGETID'], mtl['TARGETID']))  #- all targets are in MTL\n",
    "\n",
    "#- no sky targets should be in science targets, though it is possible for standards to also be MWS targets\n",
    "assert not np.any(np.in1d(sky['TARGETID'], targets['TARGETID']))"
   ]
  },
  {
   "cell_type": "code",
   "execution_count": null,
   "metadata": {
    "collapsed": false
   },
   "outputs": [],
   "source": [
    "plt.figure(figsize=(10,8))\n",
    "plt.scatter(mtl['RA'], mtl['DEC'], color='blue', alpha=0.1, s=0.001)\n",
    "plt.plot(std['RA'], std['DEC'], 'm.')"
   ]
  },
  {
   "cell_type": "markdown",
   "metadata": {},
   "source": [
    "# Run quicksurvey\n"
   ]
  },
  {
   "cell_type": "markdown",
   "metadata": {},
   "source": [
    "## Fiberassign dates\n",
    "\n",
    "From the `surveysim` data we have to find the dates when `fiberassign` is expected to be run"
   ]
  },
  {
   "cell_type": "code",
   "execution_count": null,
   "metadata": {
    "collapsed": false
   },
   "outputs": [],
   "source": [
    "#get the dates when fiberassign should be run\n",
    "\n",
    "px = Table.read(os.getenv('DESISURVEY_OUTPUT')+'/progress.fits')\n",
    "fiberassign_dates = np.sort(list(set(px['available'])))\n",
    "fiberassign_dates = fiberassign_dates[fiberassign_dates>0]\n",
    "print(fiberassign_dates)\n",
    "\n",
    "#load the dark exposures\n",
    "exposurefile = os.path.join(surveydir,'exposures_dark.fits')\n",
    "exposures = Table.read(exposurefile)\n",
    "expdates = []\n",
    "for n in exposures['night']:\n",
    "    a = datetime.datetime.strptime(n, \"%Y-%m-%d\")\n",
    "    expdates.append(a.date())\n",
    "expdates = np.array(expdates)\n",
    "print(expdates, expdates)\n",
    "\n",
    "#load the first date of the survey\n",
    "survey_config = os.path.join(os.getenv('DESISURVEY_OUTPUT'),'config.yaml')\n",
    "with open(survey_config, 'r') as pfile:\n",
    "    params = yaml.load(pfile)\n",
    "pfile.close()\n",
    "first_day = params['first_day']\n",
    "last_day = params['last_day']\n",
    "\n",
    "#compute the dates to run fiberassign to be sure that there is at least one exposure there\n",
    "fiberassign_dates_dark = []\n",
    "one_day = datetime.timedelta(days=1)\n",
    "initial_day = first_day #expdates.min()\n",
    "for d in fiberassign_dates:\n",
    "    final_day = first_day + d * one_day\n",
    "    ii = (expdates > initial_day) & (expdates<=final_day)\n",
    "    n_in = np.count_nonzero(ii)\n",
    "    if n_in>0:\n",
    "        print(initial_day, final_day, n_in)\n",
    "        fiberassign_dates_dark.append(initial_day.strftime(\"%Y-%m-%d\"))\n",
    "        initial_day = final_day\n",
    "\n",
    "print(fiberassign_dates_dark)\n",
    "fiberdates_filename = os.path.join(fiberassigndir, 'fiberassign_dates_dark.txt')\n",
    "f = open(fiberdates_filename, 'w')\n",
    "for d in fiberassign_dates_dark:\n",
    "    f.write(d+\"\\n\")\n",
    "f.close()"
   ]
  },
  {
   "cell_type": "code",
   "execution_count": null,
   "metadata": {
    "collapsed": false
   },
   "outputs": [],
   "source": [
    "! cat /global/cscratch1/sd/forero/quicksurvey_example/fiberassign/fiberassign_dates_dark.txt"
   ]
  },
  {
   "cell_type": "code",
   "execution_count": null,
   "metadata": {
    "collapsed": false
   },
   "outputs": [],
   "source": [
    "quicksurvey_cmd = \"quicksurvey -T {targetdir} -E {exposures}  --output_dir {outputdir} -f $(which fiberassign)\"\n",
    "quicksurvey_cmd += \" -t {fiberassign_template} -D {fiberassign_dates}\"\n",
    "\n",
    "cmd = quicksurvey_cmd.format(targetdir=darktargetdir,\n",
    "                            exposures=surveydir+'/exposures_dark.fits', \n",
    "                            outputdir=zcatdarkdir, \n",
    "                            fiberassign_template=fiberassigndir+'/template_fiberassign_dark.txt', \n",
    "                            fiberassign_dates=fiberassigndir+'/fiberassign_dates_dark.txt')\n",
    "print(cmd)"
   ]
  },
  {
   "cell_type": "code",
   "execution_count": null,
   "metadata": {
    "collapsed": false
   },
   "outputs": [],
   "source": [
    "! $cmd"
   ]
  },
  {
   "cell_type": "markdown",
   "metadata": {},
   "source": [
    "The list above is the day count after survey start"
   ]
  },
  {
   "cell_type": "code",
   "execution_count": null,
   "metadata": {
    "collapsed": false
   },
   "outputs": [],
   "source": [
    "zcat     = fitsio.read(zcatdarkdir+'/3/zcat.fits')\n",
    "zcat_in_mtl = np.in1d(mtl['TARGETID'], zcat['TARGETID'])\n",
    "plt.figure(figsize=(10,8))\n",
    "plt.scatter(mtl['RA'], mtl['DEC'], c='b', alpha=0.1, s=0.01)\n",
    "plt.scatter(mtl[zcat_in_mtl]['RA'], mtl[zcat_in_mtl]['DEC'], c='r', alpha=0.4, s=0.05)\n",
    "print(np.count_nonzero(zcat_in_mtl))"
   ]
  }
 ],
 "metadata": {
  "anaconda-cloud": {},
  "kernelspec": {
   "display_name": "DESI dev",
   "language": "python",
   "name": "desi-dev"
  },
  "language_info": {
   "codemirror_mode": {
    "name": "ipython",
    "version": 3
   },
   "file_extension": ".py",
   "mimetype": "text/x-python",
   "name": "python",
   "nbconvert_exporter": "python",
   "pygments_lexer": "ipython3",
   "version": "3.5.3"
  }
 },
 "nbformat": 4,
 "nbformat_minor": 0
}

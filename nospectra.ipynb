{
 "cells": [
  {
   "cell_type": "code",
   "execution_count": 2,
   "metadata": {
    "collapsed": false
   },
   "outputs": [],
   "source": [
    "import os\n",
    "from astropy.table import Table\n",
    "import matplotlib.pyplot as plt\n",
    "import healpy as hp\n",
    "import numpy as np\n",
    "import fitsio\n",
    "%matplotlib inline"
   ]
  },
  {
   "cell_type": "code",
   "execution_count": 3,
   "metadata": {
    "collapsed": true
   },
   "outputs": [],
   "source": [
    "import desisim\n",
    "import desisurvey\n",
    "import desimodel.io\n",
    "import desimodel.footprint"
   ]
  },
  {
   "cell_type": "markdown",
   "metadata": {},
   "source": [
    "# Environment Variables \n",
    "\n",
    "Set some environment variables and create output directories\n",
    "\n",
    "`$DESISURVEY` = `${SCRATCH}`/quicksurvey_example/survey/"
   ]
  },
  {
   "cell_type": "code",
   "execution_count": 4,
   "metadata": {
    "collapsed": false
   },
   "outputs": [
    {
     "name": "stdout",
     "output_type": "stream",
     "text": [
      "/global/cscratch1/sd/forero/quicksurvey_example/survey\n"
     ]
    }
   ],
   "source": [
    "basedir = os.path.join(os.getenv('SCRATCH'),'quicksurvey_example')\n",
    "surveydir = os.environ['DESISURVEY'] = os.path.join(basedir,'survey')\n",
    "print(os.environ['DESISURVEY'])"
   ]
  },
  {
   "cell_type": "code",
   "execution_count": 5,
   "metadata": {
    "collapsed": false
   },
   "outputs": [],
   "source": [
    "targetdir = os.path.join(basedir,'targets')\n",
    "nospectradir = os.path.join(targetdir,'no_spectra')\n",
    "fullspectradir = os.path.join(targetdir,'full_spectra')\n",
    "zcatbrightdir = os.path.join(basedir,'zcat/bright')\n",
    "zcatdarkdir = os.path.join(basedir,'zcat/dark')\n",
    "os.makedirs(targetdir, exist_ok=True)\n",
    "os.makedirs(zcatbrightdir, exist_ok=True)\n",
    "os.makedirs(zcatdarkdir, exist_ok=True)\n",
    "os.makedirs(nospectradir, exist_ok=True)\n",
    "os.makedirs(fullspectradir, exist_ok=True)"
   ]
  },
  {
   "cell_type": "markdown",
   "metadata": {},
   "source": [
    "# Run select_mock_targets"
   ]
  },
  {
   "cell_type": "code",
   "execution_count": 6,
   "metadata": {
    "collapsed": false
   },
   "outputs": [
    {
     "name": "stdout",
     "output_type": "stream",
     "text": [
      "srun -N 15 -n 30 -c 16 -p debug -C haswell -t 00:30:00 mpi_select_mock_targets -O /global/cscratch1/sd/forero/quicksurvey_example/targets/full_spectra --config /global/cscratch1/sd/forero/quicksurvey_example/targets/select-mock-targets.yaml --seed 1 --nproc 16 --nside 64 --tiles /global/cscratch1/sd/forero/quicksurvey_example/targets/test-tiles.fits\n"
     ]
    }
   ],
   "source": [
    "tilefile = os.path.join(targetdir, 'test-tiles.fits')\n",
    "configfile = os.path.join(targetdir,'select-mock-targets.yaml')\n",
    "os.environ['MPICH_GNI_FORK_MODE'] = 'FULLCOPY'\n",
    "os.environ['KMP_AFFINITY'] = 'disabled'\n",
    "os.environ['OMP_NUM_THREADS'] = '1'\n",
    "cmd = \"srun -N 15 -n 30 -c 16 -p debug -C haswell -t 00:30:00\"\n",
    "cmd += \" mpi_select_mock_targets -O {outputdir} --config {configfile}\"\n",
    "cmd += \" --seed 1 --nproc 16 --nside 64 --tiles {tilefile}\"\n",
    "cmd = cmd.format(outputdir=fullspectradir, tilefile=tilefile, configfile=configfile)\n",
    "print(cmd) "
   ]
  },
  {
   "cell_type": "code",
   "execution_count": 7,
   "metadata": {
    "collapsed": false
   },
   "outputs": [],
   "source": [
    "#!$cmd"
   ]
  },
  {
   "cell_type": "code",
   "execution_count": 8,
   "metadata": {
    "collapsed": false
   },
   "outputs": [
    {
     "name": "stdout",
     "output_type": "stream",
     "text": [
      "join_mock_targets --mockdir /global/cscratch1/sd/forero/quicksurvey_example/targets/full_spectra --force\n",
      "INFO:build.py:978:merge_file_tables: Writing /global/cscratch1/sd/forero/quicksurvey_example/targets/full_spectra/sky.fits\n",
      "INFO:build.py:978:merge_file_tables: Writing /global/cscratch1/sd/forero/quicksurvey_example/targets/full_spectra/standards-dark.fits\n",
      "INFO:build.py:978:merge_file_tables: Writing /global/cscratch1/sd/forero/quicksurvey_example/targets/full_spectra/standards-bright.fits\n",
      "INFO:build.py:978:merge_file_tables: Writing /global/cscratch1/sd/forero/quicksurvey_example/targets/full_spectra/targets.fits\n",
      "INFO:build.py:978:merge_file_tables: Writing /global/cscratch1/sd/forero/quicksurvey_example/targets/full_spectra/truth.fits\n",
      "INFO:build.py:1056:join_targets_truth: Generating merged target list /global/cscratch1/sd/forero/quicksurvey_example/targets/full_spectra/mtl.fits\n",
      "DEBUG: before targets.calc_priority slow copy\n",
      "DEBUG: seconds for targets.calc_priority slow copy: 0.054945945739746094\n",
      "DEBUG: calc_priority has 277368 unobserved targets\n",
      "0 of 277368 targets have priority zero, setting N_obs=0.\n"
     ]
    }
   ],
   "source": [
    "cmd = \"join_mock_targets --mockdir {} --force\".format(fullspectradir)\n",
    "print(cmd)\n",
    "!$cmd"
   ]
  },
  {
   "cell_type": "code",
   "execution_count": 9,
   "metadata": {
    "collapsed": false
   },
   "outputs": [
    {
     "name": "stdout",
     "output_type": "stream",
     "text": [
      "srun -N 15 -n 30 -c 16 -p debug -C haswell -t 00:30:00 mpi_select_mock_targets -O /global/cscratch1/sd/forero/quicksurvey_example/targets/no_spectra --config /global/cscratch1/sd/forero/quicksurvey_example/targets/select-mock-targets.yaml --seed 1 --nproc 16 --nside 64 --tiles /global/cscratch1/sd/forero/quicksurvey_example/targets/test-tiles.fits --no-spectra\n"
     ]
    }
   ],
   "source": [
    "tilefile = os.path.join(targetdir, 'test-tiles.fits')\n",
    "configfile = os.path.join(targetdir,'select-mock-targets.yaml')\n",
    "os.environ['MPICH_GNI_FORK_MODE'] = 'FULLCOPY'\n",
    "os.environ['KMP_AFFINITY'] = 'disabled'\n",
    "os.environ['OMP_NUM_THREADS'] = '1'\n",
    "cmd = \"srun -N 15 -n 30 -c 16 -p debug -C haswell -t 00:30:00\"\n",
    "cmd += \" mpi_select_mock_targets -O {outputdir} --config {configfile}\"\n",
    "cmd += \" --seed 1 --nproc 16 --nside 64 --tiles {tilefile} --no-spectra\"\n",
    "cmd = cmd.format(outputdir=nospectradir, tilefile=tilefile, configfile=configfile)\n",
    "print(cmd)"
   ]
  },
  {
   "cell_type": "code",
   "execution_count": 10,
   "metadata": {
    "collapsed": false
   },
   "outputs": [],
   "source": [
    "#!$cmd"
   ]
  },
  {
   "cell_type": "code",
   "execution_count": 11,
   "metadata": {
    "collapsed": false
   },
   "outputs": [
    {
     "name": "stdout",
     "output_type": "stream",
     "text": [
      "join_mock_targets --mockdir /global/cscratch1/sd/forero/quicksurvey_example/targets/no_spectra --force\n",
      "INFO:build.py:978:merge_file_tables: Writing /global/cscratch1/sd/forero/quicksurvey_example/targets/no_spectra/sky.fits\n",
      "INFO:build.py:978:merge_file_tables: Writing /global/cscratch1/sd/forero/quicksurvey_example/targets/no_spectra/standards-dark.fits\n",
      "INFO:build.py:978:merge_file_tables: Writing /global/cscratch1/sd/forero/quicksurvey_example/targets/no_spectra/standards-bright.fits\n",
      "INFO:build.py:978:merge_file_tables: Writing /global/cscratch1/sd/forero/quicksurvey_example/targets/no_spectra/targets.fits\n",
      "INFO:build.py:978:merge_file_tables: Writing /global/cscratch1/sd/forero/quicksurvey_example/targets/no_spectra/truth.fits\n",
      "INFO:build.py:1056:join_targets_truth: Generating merged target list /global/cscratch1/sd/forero/quicksurvey_example/targets/no_spectra/mtl.fits\n",
      "DEBUG: before targets.calc_priority slow copy\n",
      "DEBUG: seconds for targets.calc_priority slow copy: 0.05476546287536621\n",
      "DEBUG: calc_priority has 273905 unobserved targets\n",
      "0 of 273905 targets have priority zero, setting N_obs=0.\n"
     ]
    }
   ],
   "source": [
    "cmd = \"join_mock_targets --mockdir {} --force\".format(nospectradir)\n",
    "print(cmd)\n",
    "!$cmd"
   ]
  },
  {
   "cell_type": "code",
   "execution_count": 12,
   "metadata": {
    "collapsed": true
   },
   "outputs": [],
   "source": [
    "# some sanity checks on the results"
   ]
  },
  {
   "cell_type": "code",
   "execution_count": 13,
   "metadata": {
    "collapsed": false
   },
   "outputs": [],
   "source": [
    "targetdir = nospectradir\n",
    "targets = fitsio.read(targetdir+'/targets.fits')\n",
    "truth   = fitsio.read(targetdir+'/truth.fits')\n",
    "mtl     = fitsio.read(targetdir+'/mtl.fits')\n",
    "std     = fitsio.read(targetdir+'/standards-dark.fits')\n",
    "sky     = fitsio.read(targetdir+'/sky.fits')"
   ]
  },
  {
   "cell_type": "code",
   "execution_count": 14,
   "metadata": {
    "collapsed": false
   },
   "outputs": [
    {
     "name": "stdout",
     "output_type": "stream",
     "text": [
      "273905 273905\n",
      "64189 64189\n",
      "1886 1886\n"
     ]
    }
   ],
   "source": [
    "print(len(targets), len(np.unique(targets['TARGETID'])))\n",
    "print(len(sky), len(np.unique(sky['TARGETID'])))\n",
    "print(len(std), len(np.unique(std['TARGETID'])))\n",
    "assert len(truth) == len(targets)                             #- same number of targets and truth\n",
    "assert np.all(targets['TARGETID'] == truth['TARGETID'])       #- targets and truth arerow matched\n",
    "assert len(targets) == len(np.unique(targets['TARGETID']))    #- no repeated TARGETIDs\n",
    "assert len(sky) == len(np.unique(sky['TARGETID']))            #- no repeated sky TARGETIDs\n",
    "assert len(std) == len(np.unique(std['TARGETID']))            #- no repeated std TARGETIDs\n",
    "\n",
    "assert np.all(np.in1d(targets['TARGETID'], mtl['TARGETID']))  #- all targets are in MTL\n",
    "\n",
    "#- no sky targets should be in science targets, though it is possible for standards to also be MWS targets\n",
    "assert not np.any(np.in1d(sky['TARGETID'], targets['TARGETID']))\n"
   ]
  },
  {
   "cell_type": "code",
   "execution_count": 15,
   "metadata": {
    "collapsed": false
   },
   "outputs": [],
   "source": [
    "vals, idx_start, count = np.unique(targets['TARGETID'], return_index=True, return_counts=True)"
   ]
  },
  {
   "cell_type": "code",
   "execution_count": null,
   "metadata": {
    "collapsed": false
   },
   "outputs": [
    {
     "name": "stdout",
     "output_type": "stream",
     "text": [
      "0\n"
     ]
    }
   ],
   "source": [
    "len(vals), len(targets), idx_start, count\n",
    "repeated_targets = targets[idx_start[count>1]]\n",
    "print(len(repeated_targets))"
   ]
  },
  {
   "cell_type": "code",
   "execution_count": null,
   "metadata": {
    "collapsed": false
   },
   "outputs": [
    {
     "data": {
      "text/plain": [
       "<matplotlib.collections.PathCollection at 0x2aaad943ee48>"
      ]
     },
     "execution_count": 17,
     "metadata": {},
     "output_type": "execute_result"
    }
   ],
   "source": [
    "plt.figure(figsize=(10,8))\n",
    "plt.plot(targets['RA'], targets['DEC'], 'b,', alpha=0.1)\n",
    "plt.scatter(repeated_targets['RA'], repeated_targets['DEC'], alpha=0.6, s=10)"
   ]
  },
  {
   "cell_type": "code",
   "execution_count": null,
   "metadata": {
    "collapsed": false
   },
   "outputs": [],
   "source": [
    "plt.figure(figsize=(10,8))\n",
    "plt.plot(mtl['RA'], mtl['DEC'], 'b,', alpha=0.1)"
   ]
  },
  {
   "cell_type": "code",
   "execution_count": null,
   "metadata": {
    "collapsed": false
   },
   "outputs": [],
   "source": [
    "a = plt.hist2d(mtl['RA'], mtl['DEC'], bins=200)"
   ]
  },
  {
   "cell_type": "code",
   "execution_count": null,
   "metadata": {
    "collapsed": false
   },
   "outputs": [],
   "source": [
    "targetdir = fullspectradir\n",
    "targets = fitsio.read(targetdir+'/targets.fits')\n",
    "truth   = fitsio.read(targetdir+'/truth.fits')\n",
    "mtl     = fitsio.read(targetdir+'/mtl.fits')\n",
    "std     = fitsio.read(targetdir+'/standards-dark.fits')\n",
    "sky     = fitsio.read(targetdir+'/sky.fits')"
   ]
  },
  {
   "cell_type": "code",
   "execution_count": null,
   "metadata": {
    "collapsed": false
   },
   "outputs": [],
   "source": [
    "assert len(truth) == len(targets)                             #- same number of targets and truth\n",
    "assert np.all(targets['TARGETID'] == truth['TARGETID'])       #- targets and truth arerow matched\n",
    "assert len(targets) == len(np.unique(targets['TARGETID']))    #- no repeated TARGETIDs\n",
    "assert len(sky) == len(np.unique(sky['TARGETID']))            #- no repeated sky TARGETIDs\n",
    "assert len(std) == len(np.unique(std['TARGETID']))            #- no repeated std TARGETIDs\n",
    "\n",
    "assert np.all(np.in1d(targets['TARGETID'], mtl['TARGETID']))  #- all targets are in MTL\n",
    "\n",
    "#- no sky targets should be in science targets, though it is possible for standards to also be MWS targets\n",
    "assert not np.any(np.in1d(sky['TARGETID'], targets['TARGETID']))\n"
   ]
  },
  {
   "cell_type": "code",
   "execution_count": null,
   "metadata": {
    "collapsed": false
   },
   "outputs": [],
   "source": [
    "plt.figure(figsize=(10,8))\n",
    "plt.plot(mtl['RA'], mtl['DEC'], 'b,', alpha=0.1)\n",
    "#plt.plot(std['RA'], std['DEC'], 'm.')"
   ]
  },
  {
   "cell_type": "code",
   "execution_count": null,
   "metadata": {
    "collapsed": false
   },
   "outputs": [],
   "source": [
    "a = plt.hist2d(mtl['RA'], mtl['DEC'], bins=200)"
   ]
  },
  {
   "cell_type": "code",
   "execution_count": null,
   "metadata": {
    "collapsed": true
   },
   "outputs": [],
   "source": []
  }
 ],
 "metadata": {
  "anaconda-cloud": {},
  "kernelspec": {
   "display_name": "DESI dev",
   "language": "python",
   "name": "desi-dev"
  },
  "language_info": {
   "codemirror_mode": {
    "name": "ipython",
    "version": 3
   },
   "file_extension": ".py",
   "mimetype": "text/x-python",
   "name": "python",
   "nbconvert_exporter": "python",
   "pygments_lexer": "ipython3",
   "version": "3.5.3"
  }
 },
 "nbformat": 4,
 "nbformat_minor": 0
}
